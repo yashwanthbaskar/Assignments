{
 "cells": [
  {
   "cell_type": "markdown",
   "metadata": {},
   "source": [
    "1.1 Write a Python Program(with class concepts) to find the area of the triangle using the below  formula. \n",
    "area = (s*(s-a)*(s-b)*(s-c)) ** 0.5 \n",
    "Function to take the length of the sides of triangle from user should be defined in the parent  class and function to calculate the area should be defined in subclass. \n"
   ]
  },
  {
   "cell_type": "code",
   "execution_count": 5,
   "metadata": {},
   "outputs": [
    {
     "name": "stdout",
     "output_type": "stream",
     "text": [
      "Enter the input for side_a(cm) : 5\n",
      "Enter the input for side_b(cm) : 6\n",
      "Enter the input for side_c(cm) : 7\n"
     ]
    },
    {
     "data": {
      "text/plain": [
       "'The area of the triange is 14.696938456699069 sq.cm'"
      ]
     },
     "execution_count": 5,
     "metadata": {},
     "output_type": "execute_result"
    }
   ],
   "source": [
    "class Triangle:\n",
    "    def __init__(self,side_a,side_b,side_c):\n",
    "        self.side_a=side_a\n",
    "        self.side_b=side_b\n",
    "        self.side_c=side_c\n",
    "        self.side_s=(side_a+side_b+side_c)/2\n",
    "        \n",
    "    def compute_area(self):\n",
    "        result=(self.side_s*(self.side_s-self.side_a)*(self.side_s-self.side_b)*(self.side_s-self.side_c))**0.5\n",
    "        return f'The area of the triange is {result} sq.cm'\n",
    "    \n",
    "side_a=int(input(\"Enter the input for side_a(cm) : \" ))\n",
    "side_b=int(input(\"Enter the input for side_b(cm) : \" ))\n",
    "side_c=int(input(\"Enter the input for side_c(cm) : \" ))\n",
    "\n",
    "object_one=Triangle(side_a,side_b,side_c)\n",
    "object_one.compute_area()"
   ]
  },
  {
   "cell_type": "markdown",
   "metadata": {},
   "source": [
    "1.2 Write a function filter_long_words() that takes a list of words and an integer n and returns  the list of words that are longer than n. \n"
   ]
  },
  {
   "cell_type": "code",
   "execution_count": 11,
   "metadata": {},
   "outputs": [
    {
     "name": "stdout",
     "output_type": "stream",
     "text": [
      "Enter a number: 12\n",
      "The words whose length is greater then the given number is given by:\n",
      "['Artificial_Intelligence', 'Machine_learning']\n"
     ]
    }
   ],
   "source": [
    "list_one=['Artificial_Intelligence','Data_science','Machine_learning']\n",
    "n=int(input('Enter a number: '))\n",
    "def filter_long_words(list_one,n):\n",
    "    new_list=[]\n",
    "    for item in list_one:\n",
    "        if len(item) > n:\n",
    "            new_list.append(item)\n",
    "    return new_list\n",
    "\n",
    "print(\"The words whose length is greater then the given number is given by:\")\n",
    "print(filter_long_words(list_one,n))"
   ]
  },
  {
   "cell_type": "code",
   "execution_count": null,
   "metadata": {},
   "outputs": [],
   "source": []
  },
  {
   "cell_type": "markdown",
   "metadata": {},
   "source": [
    "2.1 Write a Python program using function concept that maps list of words into a list of integers  representing the lengths of the corresponding words. \n",
    "Hint: If a list [ ab,cde,erty] is passed on to the python function output should come as [2,3,4] Here 2,3 and 4 are the lengths of the words in the list. \n"
   ]
  },
  {
   "cell_type": "code",
   "execution_count": 16,
   "metadata": {},
   "outputs": [
    {
     "name": "stdout",
     "output_type": "stream",
     "text": [
      "The length of the words is given by\n",
      "[23, 12, 16]\n"
     ]
    }
   ],
   "source": [
    "list_one=['Artificial_Intelligence','Data_science','Machine_learning']\n",
    "\n",
    "def length_of_words(list_one):\n",
    "    new_list=[]\n",
    "    for item in list_one:\n",
    "        new_list.append(len(item))\n",
    "    return new_list\n",
    "\n",
    "print('The length of the words is given by')\n",
    "result=length_of_words(list_one)\n",
    "print(result)"
   ]
  },
  {
   "cell_type": "code",
   "execution_count": null,
   "metadata": {},
   "outputs": [],
   "source": []
  },
  {
   "cell_type": "markdown",
   "metadata": {},
   "source": [
    "2.2 Write a Python function which takes a character (i.e. a string of length 1) and returns True if  it is a vowel, False otherwise. "
   ]
  },
  {
   "cell_type": "code",
   "execution_count": 18,
   "metadata": {},
   "outputs": [
    {
     "name": "stdout",
     "output_type": "stream",
     "text": [
      "Enter a character to check whether it is vowel or not: a\n",
      "True\n"
     ]
    }
   ],
   "source": [
    "character=input('Enter a character to check whether it is vowel or not: ')\n",
    "\n",
    "def check_vowel(character):\n",
    "    vowel=['a','e','i','o','u','A','E','I','O','U']\n",
    "    \n",
    "    if character in vowel:\n",
    "        return True\n",
    "    else:\n",
    "        return False\n",
    "    \n",
    "print(check_vowel(character))"
   ]
  },
  {
   "cell_type": "code",
   "execution_count": null,
   "metadata": {},
   "outputs": [],
   "source": []
  }
 ],
 "metadata": {
  "kernelspec": {
   "display_name": "Python 3",
   "language": "python",
   "name": "python3"
  },
  "language_info": {
   "codemirror_mode": {
    "name": "ipython",
    "version": 3
   },
   "file_extension": ".py",
   "mimetype": "text/x-python",
   "name": "python",
   "nbconvert_exporter": "python",
   "pygments_lexer": "ipython3",
   "version": "3.7.6"
  }
 },
 "nbformat": 4,
 "nbformat_minor": 4
}
