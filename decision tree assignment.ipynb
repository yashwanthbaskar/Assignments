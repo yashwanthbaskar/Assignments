{
 "cells": [
  {
   "cell_type": "code",
   "execution_count": 1,
   "metadata": {},
   "outputs": [],
   "source": [
    "import pandas as pd\n",
    "import numpy as np\n",
    "import matplotlib.pyplot as plt\n",
    "import seaborn as sns"
   ]
  },
  {
   "cell_type": "code",
   "execution_count": 2,
   "metadata": {},
   "outputs": [
    {
     "data": {
      "text/html": [
       "<div>\n",
       "<style scoped>\n",
       "    .dataframe tbody tr th:only-of-type {\n",
       "        vertical-align: middle;\n",
       "    }\n",
       "\n",
       "    .dataframe tbody tr th {\n",
       "        vertical-align: top;\n",
       "    }\n",
       "\n",
       "    .dataframe thead th {\n",
       "        text-align: right;\n",
       "    }\n",
       "</style>\n",
       "<table border=\"1\" class=\"dataframe\">\n",
       "  <thead>\n",
       "    <tr style=\"text-align: right;\">\n",
       "      <th></th>\n",
       "      <th>survived</th>\n",
       "      <th>pclass</th>\n",
       "      <th>sex</th>\n",
       "      <th>age</th>\n",
       "      <th>sibsp</th>\n",
       "      <th>parch</th>\n",
       "      <th>fare</th>\n",
       "      <th>embarked</th>\n",
       "      <th>class</th>\n",
       "      <th>who</th>\n",
       "      <th>adult_male</th>\n",
       "      <th>deck</th>\n",
       "      <th>embark_town</th>\n",
       "      <th>alive</th>\n",
       "      <th>alone</th>\n",
       "    </tr>\n",
       "  </thead>\n",
       "  <tbody>\n",
       "    <tr>\n",
       "      <th>0</th>\n",
       "      <td>0</td>\n",
       "      <td>3</td>\n",
       "      <td>male</td>\n",
       "      <td>22.0</td>\n",
       "      <td>1</td>\n",
       "      <td>0</td>\n",
       "      <td>7.2500</td>\n",
       "      <td>S</td>\n",
       "      <td>Third</td>\n",
       "      <td>man</td>\n",
       "      <td>True</td>\n",
       "      <td>NaN</td>\n",
       "      <td>Southampton</td>\n",
       "      <td>no</td>\n",
       "      <td>False</td>\n",
       "    </tr>\n",
       "    <tr>\n",
       "      <th>1</th>\n",
       "      <td>1</td>\n",
       "      <td>1</td>\n",
       "      <td>female</td>\n",
       "      <td>38.0</td>\n",
       "      <td>1</td>\n",
       "      <td>0</td>\n",
       "      <td>71.2833</td>\n",
       "      <td>C</td>\n",
       "      <td>First</td>\n",
       "      <td>woman</td>\n",
       "      <td>False</td>\n",
       "      <td>C</td>\n",
       "      <td>Cherbourg</td>\n",
       "      <td>yes</td>\n",
       "      <td>False</td>\n",
       "    </tr>\n",
       "    <tr>\n",
       "      <th>2</th>\n",
       "      <td>1</td>\n",
       "      <td>3</td>\n",
       "      <td>female</td>\n",
       "      <td>26.0</td>\n",
       "      <td>0</td>\n",
       "      <td>0</td>\n",
       "      <td>7.9250</td>\n",
       "      <td>S</td>\n",
       "      <td>Third</td>\n",
       "      <td>woman</td>\n",
       "      <td>False</td>\n",
       "      <td>NaN</td>\n",
       "      <td>Southampton</td>\n",
       "      <td>yes</td>\n",
       "      <td>True</td>\n",
       "    </tr>\n",
       "    <tr>\n",
       "      <th>3</th>\n",
       "      <td>1</td>\n",
       "      <td>1</td>\n",
       "      <td>female</td>\n",
       "      <td>35.0</td>\n",
       "      <td>1</td>\n",
       "      <td>0</td>\n",
       "      <td>53.1000</td>\n",
       "      <td>S</td>\n",
       "      <td>First</td>\n",
       "      <td>woman</td>\n",
       "      <td>False</td>\n",
       "      <td>C</td>\n",
       "      <td>Southampton</td>\n",
       "      <td>yes</td>\n",
       "      <td>False</td>\n",
       "    </tr>\n",
       "    <tr>\n",
       "      <th>4</th>\n",
       "      <td>0</td>\n",
       "      <td>3</td>\n",
       "      <td>male</td>\n",
       "      <td>35.0</td>\n",
       "      <td>0</td>\n",
       "      <td>0</td>\n",
       "      <td>8.0500</td>\n",
       "      <td>S</td>\n",
       "      <td>Third</td>\n",
       "      <td>man</td>\n",
       "      <td>True</td>\n",
       "      <td>NaN</td>\n",
       "      <td>Southampton</td>\n",
       "      <td>no</td>\n",
       "      <td>True</td>\n",
       "    </tr>\n",
       "  </tbody>\n",
       "</table>\n",
       "</div>"
      ],
      "text/plain": [
       "   survived  pclass     sex   age  sibsp  parch     fare embarked  class  \\\n",
       "0         0       3    male  22.0      1      0   7.2500        S  Third   \n",
       "1         1       1  female  38.0      1      0  71.2833        C  First   \n",
       "2         1       3  female  26.0      0      0   7.9250        S  Third   \n",
       "3         1       1  female  35.0      1      0  53.1000        S  First   \n",
       "4         0       3    male  35.0      0      0   8.0500        S  Third   \n",
       "\n",
       "     who  adult_male deck  embark_town alive  alone  \n",
       "0    man        True  NaN  Southampton    no  False  \n",
       "1  woman       False    C    Cherbourg   yes  False  \n",
       "2  woman       False  NaN  Southampton   yes   True  \n",
       "3  woman       False    C  Southampton   yes  False  \n",
       "4    man        True  NaN  Southampton    no   True  "
      ]
     },
     "execution_count": 2,
     "metadata": {},
     "output_type": "execute_result"
    }
   ],
   "source": [
    "titanic=sns.load_dataset('titanic')\n",
    "titanic.head()"
   ]
  },
  {
   "cell_type": "code",
   "execution_count": 3,
   "metadata": {},
   "outputs": [],
   "source": [
    "titanic.columns=['survived', 'pclass', 'sex', 'age', 'sibsp', 'parch', 'fare',\n",
    "       'embarked', 'class', 'who', 'adult_male', 'cabin', 'embark_town',\n",
    "       'alive', 'alone']"
   ]
  },
  {
   "cell_type": "code",
   "execution_count": 4,
   "metadata": {},
   "outputs": [
    {
     "data": {
      "text/html": [
       "<div>\n",
       "<style scoped>\n",
       "    .dataframe tbody tr th:only-of-type {\n",
       "        vertical-align: middle;\n",
       "    }\n",
       "\n",
       "    .dataframe tbody tr th {\n",
       "        vertical-align: top;\n",
       "    }\n",
       "\n",
       "    .dataframe thead th {\n",
       "        text-align: right;\n",
       "    }\n",
       "</style>\n",
       "<table border=\"1\" class=\"dataframe\">\n",
       "  <thead>\n",
       "    <tr style=\"text-align: right;\">\n",
       "      <th></th>\n",
       "      <th>survived</th>\n",
       "      <th>pclass</th>\n",
       "      <th>sex</th>\n",
       "      <th>age</th>\n",
       "      <th>sibsp</th>\n",
       "      <th>parch</th>\n",
       "      <th>fare</th>\n",
       "      <th>embarked</th>\n",
       "      <th>class</th>\n",
       "      <th>who</th>\n",
       "      <th>adult_male</th>\n",
       "      <th>cabin</th>\n",
       "      <th>embark_town</th>\n",
       "      <th>alive</th>\n",
       "      <th>alone</th>\n",
       "    </tr>\n",
       "  </thead>\n",
       "  <tbody>\n",
       "    <tr>\n",
       "      <th>0</th>\n",
       "      <td>0</td>\n",
       "      <td>3</td>\n",
       "      <td>male</td>\n",
       "      <td>22.0</td>\n",
       "      <td>1</td>\n",
       "      <td>0</td>\n",
       "      <td>7.2500</td>\n",
       "      <td>S</td>\n",
       "      <td>Third</td>\n",
       "      <td>man</td>\n",
       "      <td>True</td>\n",
       "      <td>NaN</td>\n",
       "      <td>Southampton</td>\n",
       "      <td>no</td>\n",
       "      <td>False</td>\n",
       "    </tr>\n",
       "    <tr>\n",
       "      <th>1</th>\n",
       "      <td>1</td>\n",
       "      <td>1</td>\n",
       "      <td>female</td>\n",
       "      <td>38.0</td>\n",
       "      <td>1</td>\n",
       "      <td>0</td>\n",
       "      <td>71.2833</td>\n",
       "      <td>C</td>\n",
       "      <td>First</td>\n",
       "      <td>woman</td>\n",
       "      <td>False</td>\n",
       "      <td>C</td>\n",
       "      <td>Cherbourg</td>\n",
       "      <td>yes</td>\n",
       "      <td>False</td>\n",
       "    </tr>\n",
       "    <tr>\n",
       "      <th>2</th>\n",
       "      <td>1</td>\n",
       "      <td>3</td>\n",
       "      <td>female</td>\n",
       "      <td>26.0</td>\n",
       "      <td>0</td>\n",
       "      <td>0</td>\n",
       "      <td>7.9250</td>\n",
       "      <td>S</td>\n",
       "      <td>Third</td>\n",
       "      <td>woman</td>\n",
       "      <td>False</td>\n",
       "      <td>NaN</td>\n",
       "      <td>Southampton</td>\n",
       "      <td>yes</td>\n",
       "      <td>True</td>\n",
       "    </tr>\n",
       "    <tr>\n",
       "      <th>3</th>\n",
       "      <td>1</td>\n",
       "      <td>1</td>\n",
       "      <td>female</td>\n",
       "      <td>35.0</td>\n",
       "      <td>1</td>\n",
       "      <td>0</td>\n",
       "      <td>53.1000</td>\n",
       "      <td>S</td>\n",
       "      <td>First</td>\n",
       "      <td>woman</td>\n",
       "      <td>False</td>\n",
       "      <td>C</td>\n",
       "      <td>Southampton</td>\n",
       "      <td>yes</td>\n",
       "      <td>False</td>\n",
       "    </tr>\n",
       "    <tr>\n",
       "      <th>4</th>\n",
       "      <td>0</td>\n",
       "      <td>3</td>\n",
       "      <td>male</td>\n",
       "      <td>35.0</td>\n",
       "      <td>0</td>\n",
       "      <td>0</td>\n",
       "      <td>8.0500</td>\n",
       "      <td>S</td>\n",
       "      <td>Third</td>\n",
       "      <td>man</td>\n",
       "      <td>True</td>\n",
       "      <td>NaN</td>\n",
       "      <td>Southampton</td>\n",
       "      <td>no</td>\n",
       "      <td>True</td>\n",
       "    </tr>\n",
       "  </tbody>\n",
       "</table>\n",
       "</div>"
      ],
      "text/plain": [
       "   survived  pclass     sex   age  sibsp  parch     fare embarked  class  \\\n",
       "0         0       3    male  22.0      1      0   7.2500        S  Third   \n",
       "1         1       1  female  38.0      1      0  71.2833        C  First   \n",
       "2         1       3  female  26.0      0      0   7.9250        S  Third   \n",
       "3         1       1  female  35.0      1      0  53.1000        S  First   \n",
       "4         0       3    male  35.0      0      0   8.0500        S  Third   \n",
       "\n",
       "     who  adult_male cabin  embark_town alive  alone  \n",
       "0    man        True   NaN  Southampton    no  False  \n",
       "1  woman       False     C    Cherbourg   yes  False  \n",
       "2  woman       False   NaN  Southampton   yes   True  \n",
       "3  woman       False     C  Southampton   yes  False  \n",
       "4    man        True   NaN  Southampton    no   True  "
      ]
     },
     "execution_count": 4,
     "metadata": {},
     "output_type": "execute_result"
    }
   ],
   "source": [
    "titanic.head()"
   ]
  },
  {
   "cell_type": "markdown",
   "metadata": {},
   "source": [
    "### After removing the duplicate columns we have the below dataset"
   ]
  },
  {
   "cell_type": "code",
   "execution_count": 5,
   "metadata": {},
   "outputs": [],
   "source": [
    "titanic.drop(['who','adult_male','embark_town','alive','class'],axis=1,inplace=True)"
   ]
  },
  {
   "cell_type": "code",
   "execution_count": 6,
   "metadata": {},
   "outputs": [
    {
     "data": {
      "text/html": [
       "<div>\n",
       "<style scoped>\n",
       "    .dataframe tbody tr th:only-of-type {\n",
       "        vertical-align: middle;\n",
       "    }\n",
       "\n",
       "    .dataframe tbody tr th {\n",
       "        vertical-align: top;\n",
       "    }\n",
       "\n",
       "    .dataframe thead th {\n",
       "        text-align: right;\n",
       "    }\n",
       "</style>\n",
       "<table border=\"1\" class=\"dataframe\">\n",
       "  <thead>\n",
       "    <tr style=\"text-align: right;\">\n",
       "      <th></th>\n",
       "      <th>survived</th>\n",
       "      <th>pclass</th>\n",
       "      <th>sex</th>\n",
       "      <th>age</th>\n",
       "      <th>sibsp</th>\n",
       "      <th>parch</th>\n",
       "      <th>fare</th>\n",
       "      <th>embarked</th>\n",
       "      <th>cabin</th>\n",
       "      <th>alone</th>\n",
       "    </tr>\n",
       "  </thead>\n",
       "  <tbody>\n",
       "    <tr>\n",
       "      <th>0</th>\n",
       "      <td>0</td>\n",
       "      <td>3</td>\n",
       "      <td>male</td>\n",
       "      <td>22.0</td>\n",
       "      <td>1</td>\n",
       "      <td>0</td>\n",
       "      <td>7.2500</td>\n",
       "      <td>S</td>\n",
       "      <td>NaN</td>\n",
       "      <td>False</td>\n",
       "    </tr>\n",
       "    <tr>\n",
       "      <th>1</th>\n",
       "      <td>1</td>\n",
       "      <td>1</td>\n",
       "      <td>female</td>\n",
       "      <td>38.0</td>\n",
       "      <td>1</td>\n",
       "      <td>0</td>\n",
       "      <td>71.2833</td>\n",
       "      <td>C</td>\n",
       "      <td>C</td>\n",
       "      <td>False</td>\n",
       "    </tr>\n",
       "    <tr>\n",
       "      <th>2</th>\n",
       "      <td>1</td>\n",
       "      <td>3</td>\n",
       "      <td>female</td>\n",
       "      <td>26.0</td>\n",
       "      <td>0</td>\n",
       "      <td>0</td>\n",
       "      <td>7.9250</td>\n",
       "      <td>S</td>\n",
       "      <td>NaN</td>\n",
       "      <td>True</td>\n",
       "    </tr>\n",
       "    <tr>\n",
       "      <th>3</th>\n",
       "      <td>1</td>\n",
       "      <td>1</td>\n",
       "      <td>female</td>\n",
       "      <td>35.0</td>\n",
       "      <td>1</td>\n",
       "      <td>0</td>\n",
       "      <td>53.1000</td>\n",
       "      <td>S</td>\n",
       "      <td>C</td>\n",
       "      <td>False</td>\n",
       "    </tr>\n",
       "    <tr>\n",
       "      <th>4</th>\n",
       "      <td>0</td>\n",
       "      <td>3</td>\n",
       "      <td>male</td>\n",
       "      <td>35.0</td>\n",
       "      <td>0</td>\n",
       "      <td>0</td>\n",
       "      <td>8.0500</td>\n",
       "      <td>S</td>\n",
       "      <td>NaN</td>\n",
       "      <td>True</td>\n",
       "    </tr>\n",
       "  </tbody>\n",
       "</table>\n",
       "</div>"
      ],
      "text/plain": [
       "   survived  pclass     sex   age  sibsp  parch     fare embarked cabin  alone\n",
       "0         0       3    male  22.0      1      0   7.2500        S   NaN  False\n",
       "1         1       1  female  38.0      1      0  71.2833        C     C  False\n",
       "2         1       3  female  26.0      0      0   7.9250        S   NaN   True\n",
       "3         1       1  female  35.0      1      0  53.1000        S     C  False\n",
       "4         0       3    male  35.0      0      0   8.0500        S   NaN   True"
      ]
     },
     "execution_count": 6,
     "metadata": {},
     "output_type": "execute_result"
    }
   ],
   "source": [
    "titanic.head()"
   ]
  },
  {
   "cell_type": "code",
   "execution_count": 7,
   "metadata": {},
   "outputs": [
    {
     "data": {
      "text/html": [
       "<div>\n",
       "<style scoped>\n",
       "    .dataframe tbody tr th:only-of-type {\n",
       "        vertical-align: middle;\n",
       "    }\n",
       "\n",
       "    .dataframe tbody tr th {\n",
       "        vertical-align: top;\n",
       "    }\n",
       "\n",
       "    .dataframe thead th {\n",
       "        text-align: right;\n",
       "    }\n",
       "</style>\n",
       "<table border=\"1\" class=\"dataframe\">\n",
       "  <thead>\n",
       "    <tr style=\"text-align: right;\">\n",
       "      <th></th>\n",
       "      <th>survived</th>\n",
       "      <th>pclass</th>\n",
       "      <th>sex</th>\n",
       "      <th>age</th>\n",
       "      <th>sibsp</th>\n",
       "      <th>parch</th>\n",
       "      <th>fare</th>\n",
       "      <th>embarked</th>\n",
       "      <th>cabin</th>\n",
       "      <th>alone</th>\n",
       "    </tr>\n",
       "  </thead>\n",
       "  <tbody>\n",
       "    <tr>\n",
       "      <th>0</th>\n",
       "      <td>0</td>\n",
       "      <td>3</td>\n",
       "      <td>male</td>\n",
       "      <td>22.0</td>\n",
       "      <td>1</td>\n",
       "      <td>0</td>\n",
       "      <td>7.2500</td>\n",
       "      <td>S</td>\n",
       "      <td>NaN</td>\n",
       "      <td>False</td>\n",
       "    </tr>\n",
       "    <tr>\n",
       "      <th>1</th>\n",
       "      <td>1</td>\n",
       "      <td>1</td>\n",
       "      <td>female</td>\n",
       "      <td>38.0</td>\n",
       "      <td>1</td>\n",
       "      <td>0</td>\n",
       "      <td>71.2833</td>\n",
       "      <td>C</td>\n",
       "      <td>C</td>\n",
       "      <td>False</td>\n",
       "    </tr>\n",
       "    <tr>\n",
       "      <th>2</th>\n",
       "      <td>1</td>\n",
       "      <td>3</td>\n",
       "      <td>female</td>\n",
       "      <td>26.0</td>\n",
       "      <td>0</td>\n",
       "      <td>0</td>\n",
       "      <td>7.9250</td>\n",
       "      <td>S</td>\n",
       "      <td>NaN</td>\n",
       "      <td>True</td>\n",
       "    </tr>\n",
       "    <tr>\n",
       "      <th>3</th>\n",
       "      <td>1</td>\n",
       "      <td>1</td>\n",
       "      <td>female</td>\n",
       "      <td>35.0</td>\n",
       "      <td>1</td>\n",
       "      <td>0</td>\n",
       "      <td>53.1000</td>\n",
       "      <td>S</td>\n",
       "      <td>C</td>\n",
       "      <td>False</td>\n",
       "    </tr>\n",
       "    <tr>\n",
       "      <th>4</th>\n",
       "      <td>0</td>\n",
       "      <td>3</td>\n",
       "      <td>male</td>\n",
       "      <td>35.0</td>\n",
       "      <td>0</td>\n",
       "      <td>0</td>\n",
       "      <td>8.0500</td>\n",
       "      <td>S</td>\n",
       "      <td>NaN</td>\n",
       "      <td>True</td>\n",
       "    </tr>\n",
       "  </tbody>\n",
       "</table>\n",
       "</div>"
      ],
      "text/plain": [
       "   survived  pclass     sex   age  sibsp  parch     fare embarked cabin  alone\n",
       "0         0       3    male  22.0      1      0   7.2500        S   NaN  False\n",
       "1         1       1  female  38.0      1      0  71.2833        C     C  False\n",
       "2         1       3  female  26.0      0      0   7.9250        S   NaN   True\n",
       "3         1       1  female  35.0      1      0  53.1000        S     C  False\n",
       "4         0       3    male  35.0      0      0   8.0500        S   NaN   True"
      ]
     },
     "execution_count": 7,
     "metadata": {},
     "output_type": "execute_result"
    }
   ],
   "source": [
    "df=titanic.copy()\n",
    "df.head()"
   ]
  },
  {
   "cell_type": "markdown",
   "metadata": {},
   "source": [
    "### checking for null values"
   ]
  },
  {
   "cell_type": "code",
   "execution_count": 8,
   "metadata": {},
   "outputs": [
    {
     "data": {
      "text/plain": [
       "['age', 'embarked', 'cabin']"
      ]
     },
     "execution_count": 8,
     "metadata": {},
     "output_type": "execute_result"
    }
   ],
   "source": [
    "features_na=[columns for columns in df.columns if df[columns].isnull().sum() >1 ]\n",
    "features_na"
   ]
  },
  {
   "cell_type": "code",
   "execution_count": 9,
   "metadata": {},
   "outputs": [
    {
     "name": "stdout",
     "output_type": "stream",
     "text": [
      "age is having 0.199 % of null values\n",
      "embarked is having 0.002 % of null values\n",
      "cabin is having 0.772 % of null values\n"
     ]
    }
   ],
   "source": [
    "for feature in features_na:\n",
    "    count=np.round(df[feature].isnull().mean(),3)\n",
    "    print(feature,'is having',count,'% of null values')"
   ]
  },
  {
   "cell_type": "markdown",
   "metadata": {},
   "source": [
    "## Feature Engineering"
   ]
  },
  {
   "cell_type": "markdown",
   "metadata": {},
   "source": [
    "### Since the missing values in the age feature does n't occur at random we use the Enf of Distribution imputation to handle the null values."
   ]
  },
  {
   "cell_type": "code",
   "execution_count": 10,
   "metadata": {},
   "outputs": [
    {
     "data": {
      "text/plain": [
       "73.27860964406095"
      ]
     },
     "execution_count": 10,
     "metadata": {},
     "output_type": "execute_result"
    }
   ],
   "source": [
    "extreme=df['age'].mean()+(df['age'].std())*3\n",
    "extreme"
   ]
  },
  {
   "cell_type": "code",
   "execution_count": 11,
   "metadata": {},
   "outputs": [],
   "source": [
    "df['age']=np.where(df['age'].isnull(),extreme,df['age'])"
   ]
  },
  {
   "cell_type": "code",
   "execution_count": 12,
   "metadata": {},
   "outputs": [
    {
     "data": {
      "text/plain": [
       "<matplotlib.axes._subplots.AxesSubplot at 0x2a220ac7ec8>"
      ]
     },
     "execution_count": 12,
     "metadata": {},
     "output_type": "execute_result"
    },
    {
     "data": {
      "image/png": "[encoded data removed]",
      "text/plain": [
       "<Figure size 432x288 with 1 Axes>"
      ]
     },
     "metadata": {
      "needs_background": "light"
     },
     "output_type": "display_data"
    }
   ],
   "source": [
    "df['age'].hist(bins=20)"
   ]
  },
  {
   "cell_type": "markdown",
   "metadata": {},
   "source": [
    "### As a result of the above imputation outliers can also be handled"
   ]
  },
  {
   "cell_type": "code",
   "execution_count": 13,
   "metadata": {},
   "outputs": [
    {
     "data": {
      "text/plain": [
       "<matplotlib.axes._subplots.AxesSubplot at 0x2a2211abbc8>"
      ]
     },
     "execution_count": 13,
     "metadata": {},
     "output_type": "execute_result"
    },
    {
     "data": {
      "image/png": "[encoded data removed]",
      "text/plain": [
       "<Figure size 432x288 with 1 Axes>"
      ]
     },
     "metadata": {
      "needs_background": "light"
     },
     "output_type": "display_data"
    }
   ],
   "source": [
    "df.boxplot(column='age')"
   ]
  },
  {
   "cell_type": "markdown",
   "metadata": {},
   "source": [
    "### Since Embarked  is a categorical feature and the % of missing values is very less we will replace the missing values with the most occuring item in that feature"
   ]
  },
  {
   "cell_type": "code",
   "execution_count": 14,
   "metadata": {},
   "outputs": [],
   "source": [
    "df['embarked']=df['embarked'].fillna(df['embarked'].mode()[0])"
   ]
  },
  {
   "cell_type": "code",
   "execution_count": 15,
   "metadata": {},
   "outputs": [
    {
     "data": {
      "text/plain": [
       "0"
      ]
     },
     "execution_count": 15,
     "metadata": {},
     "output_type": "execute_result"
    }
   ],
   "source": [
    "df['embarked'].isnull().sum()"
   ]
  },
  {
   "cell_type": "markdown",
   "metadata": {},
   "source": [
    "### Since Cabin is a categorical feature and the % of missing values is very high we will replace the missing values with the most occuring item in that feature and creating a new feature to indicate the missing value"
   ]
  },
  {
   "cell_type": "code",
   "execution_count": 16,
   "metadata": {},
   "outputs": [],
   "source": [
    "df['cabin_null']=np.where(df['cabin'].isnull(),1,0)"
   ]
  },
  {
   "cell_type": "code",
   "execution_count": 17,
   "metadata": {},
   "outputs": [],
   "source": [
    "df['cabin']=df['cabin'].fillna(df['cabin'].mode()[0])"
   ]
  },
  {
   "cell_type": "code",
   "execution_count": 18,
   "metadata": {},
   "outputs": [
    {
     "data": {
      "text/plain": [
       "0"
      ]
     },
     "execution_count": 18,
     "metadata": {},
     "output_type": "execute_result"
    }
   ],
   "source": [
    "df['cabin'].isnull().sum()"
   ]
  },
  {
   "cell_type": "code",
   "execution_count": 19,
   "metadata": {},
   "outputs": [
    {
     "data": {
      "text/html": [
       "<div>\n",
       "<style scoped>\n",
       "    .dataframe tbody tr th:only-of-type {\n",
       "        vertical-align: middle;\n",
       "    }\n",
       "\n",
       "    .dataframe tbody tr th {\n",
       "        vertical-align: top;\n",
       "    }\n",
       "\n",
       "    .dataframe thead th {\n",
       "        text-align: right;\n",
       "    }\n",
       "</style>\n",
       "<table border=\"1\" class=\"dataframe\">\n",
       "  <thead>\n",
       "    <tr style=\"text-align: right;\">\n",
       "      <th></th>\n",
       "      <th>survived</th>\n",
       "      <th>pclass</th>\n",
       "      <th>sex</th>\n",
       "      <th>age</th>\n",
       "      <th>sibsp</th>\n",
       "      <th>parch</th>\n",
       "      <th>fare</th>\n",
       "      <th>embarked</th>\n",
       "      <th>cabin</th>\n",
       "      <th>alone</th>\n",
       "      <th>cabin_null</th>\n",
       "    </tr>\n",
       "  </thead>\n",
       "  <tbody>\n",
       "    <tr>\n",
       "      <th>0</th>\n",
       "      <td>0</td>\n",
       "      <td>3</td>\n",
       "      <td>male</td>\n",
       "      <td>22.00000</td>\n",
       "      <td>1</td>\n",
       "      <td>0</td>\n",
       "      <td>7.2500</td>\n",
       "      <td>S</td>\n",
       "      <td>C</td>\n",
       "      <td>False</td>\n",
       "      <td>1</td>\n",
       "    </tr>\n",
       "    <tr>\n",
       "      <th>1</th>\n",
       "      <td>1</td>\n",
       "      <td>1</td>\n",
       "      <td>female</td>\n",
       "      <td>38.00000</td>\n",
       "      <td>1</td>\n",
       "      <td>0</td>\n",
       "      <td>71.2833</td>\n",
       "      <td>C</td>\n",
       "      <td>C</td>\n",
       "      <td>False</td>\n",
       "      <td>0</td>\n",
       "    </tr>\n",
       "    <tr>\n",
       "      <th>2</th>\n",
       "      <td>1</td>\n",
       "      <td>3</td>\n",
       "      <td>female</td>\n",
       "      <td>26.00000</td>\n",
       "      <td>0</td>\n",
       "      <td>0</td>\n",
       "      <td>7.9250</td>\n",
       "      <td>S</td>\n",
       "      <td>C</td>\n",
       "      <td>True</td>\n",
       "      <td>1</td>\n",
       "    </tr>\n",
       "    <tr>\n",
       "      <th>3</th>\n",
       "      <td>1</td>\n",
       "      <td>1</td>\n",
       "      <td>female</td>\n",
       "      <td>35.00000</td>\n",
       "      <td>1</td>\n",
       "      <td>0</td>\n",
       "      <td>53.1000</td>\n",
       "      <td>S</td>\n",
       "      <td>C</td>\n",
       "      <td>False</td>\n",
       "      <td>0</td>\n",
       "    </tr>\n",
       "    <tr>\n",
       "      <th>4</th>\n",
       "      <td>0</td>\n",
       "      <td>3</td>\n",
       "      <td>male</td>\n",
       "      <td>35.00000</td>\n",
       "      <td>0</td>\n",
       "      <td>0</td>\n",
       "      <td>8.0500</td>\n",
       "      <td>S</td>\n",
       "      <td>C</td>\n",
       "      <td>True</td>\n",
       "      <td>1</td>\n",
       "    </tr>\n",
       "    <tr>\n",
       "      <th>5</th>\n",
       "      <td>0</td>\n",
       "      <td>3</td>\n",
       "      <td>male</td>\n",
       "      <td>73.27861</td>\n",
       "      <td>0</td>\n",
       "      <td>0</td>\n",
       "      <td>8.4583</td>\n",
       "      <td>Q</td>\n",
       "      <td>C</td>\n",
       "      <td>True</td>\n",
       "      <td>1</td>\n",
       "    </tr>\n",
       "    <tr>\n",
       "      <th>6</th>\n",
       "      <td>0</td>\n",
       "      <td>1</td>\n",
       "      <td>male</td>\n",
       "      <td>54.00000</td>\n",
       "      <td>0</td>\n",
       "      <td>0</td>\n",
       "      <td>51.8625</td>\n",
       "      <td>S</td>\n",
       "      <td>E</td>\n",
       "      <td>True</td>\n",
       "      <td>0</td>\n",
       "    </tr>\n",
       "    <tr>\n",
       "      <th>7</th>\n",
       "      <td>0</td>\n",
       "      <td>3</td>\n",
       "      <td>male</td>\n",
       "      <td>2.00000</td>\n",
       "      <td>3</td>\n",
       "      <td>1</td>\n",
       "      <td>21.0750</td>\n",
       "      <td>S</td>\n",
       "      <td>C</td>\n",
       "      <td>False</td>\n",
       "      <td>1</td>\n",
       "    </tr>\n",
       "    <tr>\n",
       "      <th>8</th>\n",
       "      <td>1</td>\n",
       "      <td>3</td>\n",
       "      <td>female</td>\n",
       "      <td>27.00000</td>\n",
       "      <td>0</td>\n",
       "      <td>2</td>\n",
       "      <td>11.1333</td>\n",
       "      <td>S</td>\n",
       "      <td>C</td>\n",
       "      <td>False</td>\n",
       "      <td>1</td>\n",
       "    </tr>\n",
       "    <tr>\n",
       "      <th>9</th>\n",
       "      <td>1</td>\n",
       "      <td>2</td>\n",
       "      <td>female</td>\n",
       "      <td>14.00000</td>\n",
       "      <td>1</td>\n",
       "      <td>0</td>\n",
       "      <td>30.0708</td>\n",
       "      <td>C</td>\n",
       "      <td>C</td>\n",
       "      <td>False</td>\n",
       "      <td>1</td>\n",
       "    </tr>\n",
       "  </tbody>\n",
       "</table>\n",
       "</div>"
      ],
      "text/plain": [
       "   survived  pclass     sex       age  sibsp  parch     fare embarked cabin  \\\n",
       "0         0       3    male  22.00000      1      0   7.2500        S     C   \n",
       "1         1       1  female  38.00000      1      0  71.2833        C     C   \n",
       "2         1       3  female  26.00000      0      0   7.9250        S     C   \n",
       "3         1       1  female  35.00000      1      0  53.1000        S     C   \n",
       "4         0       3    male  35.00000      0      0   8.0500        S     C   \n",
       "5         0       3    male  73.27861      0      0   8.4583        Q     C   \n",
       "6         0       1    male  54.00000      0      0  51.8625        S     E   \n",
       "7         0       3    male   2.00000      3      1  21.0750        S     C   \n",
       "8         1       3  female  27.00000      0      2  11.1333        S     C   \n",
       "9         1       2  female  14.00000      1      0  30.0708        C     C   \n",
       "\n",
       "   alone  cabin_null  \n",
       "0  False           1  \n",
       "1  False           0  \n",
       "2   True           1  \n",
       "3  False           0  \n",
       "4   True           1  \n",
       "5   True           1  \n",
       "6   True           0  \n",
       "7  False           1  \n",
       "8  False           1  \n",
       "9  False           1  "
      ]
     },
     "execution_count": 19,
     "metadata": {},
     "output_type": "execute_result"
    }
   ],
   "source": [
    "df.head(10)"
   ]
  },
  {
   "cell_type": "markdown",
   "metadata": {},
   "source": [
    "### One hot encoding the Sex feature"
   ]
  },
  {
   "cell_type": "code",
   "execution_count": 20,
   "metadata": {},
   "outputs": [],
   "source": [
    "key={'male':1,'female':0}\n",
    "df['sex']=df['sex'].map(key)\n"
   ]
  },
  {
   "cell_type": "code",
   "execution_count": 21,
   "metadata": {},
   "outputs": [
    {
     "data": {
      "text/html": [
       "<div>\n",
       "<style scoped>\n",
       "    .dataframe tbody tr th:only-of-type {\n",
       "        vertical-align: middle;\n",
       "    }\n",
       "\n",
       "    .dataframe tbody tr th {\n",
       "        vertical-align: top;\n",
       "    }\n",
       "\n",
       "    .dataframe thead th {\n",
       "        text-align: right;\n",
       "    }\n",
       "</style>\n",
       "<table border=\"1\" class=\"dataframe\">\n",
       "  <thead>\n",
       "    <tr style=\"text-align: right;\">\n",
       "      <th></th>\n",
       "      <th>survived</th>\n",
       "      <th>pclass</th>\n",
       "      <th>sex</th>\n",
       "      <th>age</th>\n",
       "      <th>sibsp</th>\n",
       "      <th>parch</th>\n",
       "      <th>fare</th>\n",
       "      <th>embarked</th>\n",
       "      <th>cabin</th>\n",
       "      <th>alone</th>\n",
       "      <th>cabin_null</th>\n",
       "    </tr>\n",
       "  </thead>\n",
       "  <tbody>\n",
       "    <tr>\n",
       "      <th>0</th>\n",
       "      <td>0</td>\n",
       "      <td>3</td>\n",
       "      <td>1</td>\n",
       "      <td>22.0</td>\n",
       "      <td>1</td>\n",
       "      <td>0</td>\n",
       "      <td>7.2500</td>\n",
       "      <td>S</td>\n",
       "      <td>C</td>\n",
       "      <td>False</td>\n",
       "      <td>1</td>\n",
       "    </tr>\n",
       "    <tr>\n",
       "      <th>1</th>\n",
       "      <td>1</td>\n",
       "      <td>1</td>\n",
       "      <td>0</td>\n",
       "      <td>38.0</td>\n",
       "      <td>1</td>\n",
       "      <td>0</td>\n",
       "      <td>71.2833</td>\n",
       "      <td>C</td>\n",
       "      <td>C</td>\n",
       "      <td>False</td>\n",
       "      <td>0</td>\n",
       "    </tr>\n",
       "    <tr>\n",
       "      <th>2</th>\n",
       "      <td>1</td>\n",
       "      <td>3</td>\n",
       "      <td>0</td>\n",
       "      <td>26.0</td>\n",
       "      <td>0</td>\n",
       "      <td>0</td>\n",
       "      <td>7.9250</td>\n",
       "      <td>S</td>\n",
       "      <td>C</td>\n",
       "      <td>True</td>\n",
       "      <td>1</td>\n",
       "    </tr>\n",
       "    <tr>\n",
       "      <th>3</th>\n",
       "      <td>1</td>\n",
       "      <td>1</td>\n",
       "      <td>0</td>\n",
       "      <td>35.0</td>\n",
       "      <td>1</td>\n",
       "      <td>0</td>\n",
       "      <td>53.1000</td>\n",
       "      <td>S</td>\n",
       "      <td>C</td>\n",
       "      <td>False</td>\n",
       "      <td>0</td>\n",
       "    </tr>\n",
       "    <tr>\n",
       "      <th>4</th>\n",
       "      <td>0</td>\n",
       "      <td>3</td>\n",
       "      <td>1</td>\n",
       "      <td>35.0</td>\n",
       "      <td>0</td>\n",
       "      <td>0</td>\n",
       "      <td>8.0500</td>\n",
       "      <td>S</td>\n",
       "      <td>C</td>\n",
       "      <td>True</td>\n",
       "      <td>1</td>\n",
       "    </tr>\n",
       "  </tbody>\n",
       "</table>\n",
       "</div>"
      ],
      "text/plain": [
       "   survived  pclass  sex   age  sibsp  parch     fare embarked cabin  alone  \\\n",
       "0         0       3    1  22.0      1      0   7.2500        S     C  False   \n",
       "1         1       1    0  38.0      1      0  71.2833        C     C  False   \n",
       "2         1       3    0  26.0      0      0   7.9250        S     C   True   \n",
       "3         1       1    0  35.0      1      0  53.1000        S     C  False   \n",
       "4         0       3    1  35.0      0      0   8.0500        S     C   True   \n",
       "\n",
       "   cabin_null  \n",
       "0           1  \n",
       "1           0  \n",
       "2           1  \n",
       "3           0  \n",
       "4           1  "
      ]
     },
     "execution_count": 21,
     "metadata": {},
     "output_type": "execute_result"
    }
   ],
   "source": [
    "df.head()"
   ]
  },
  {
   "cell_type": "code",
   "execution_count": null,
   "metadata": {},
   "outputs": [],
   "source": []
  },
  {
   "cell_type": "code",
   "execution_count": 22,
   "metadata": {},
   "outputs": [
    {
     "data": {
      "text/plain": [
       "<matplotlib.axes._subplots.AxesSubplot at 0x2a2212fb2c8>"
      ]
     },
     "execution_count": 22,
     "metadata": {},
     "output_type": "execute_result"
    },
    {
     "data": {
      "image/png": "[encoded data removed]",
      "text/plain": [
       "<Figure size 432x288 with 1 Axes>"
      ]
     },
     "metadata": {
      "needs_background": "light"
     },
     "output_type": "display_data"
    }
   ],
   "source": [
    "df.groupby('sex')['survived'].mean().plot(kind='bar')\n",
    "#from the graph it is clearly evident that % of women survived is very much greater than % of men."
   ]
  },
  {
   "cell_type": "code",
   "execution_count": 23,
   "metadata": {},
   "outputs": [
    {
     "data": {
      "text/plain": [
       "<matplotlib.axes._subplots.AxesSubplot at 0x2a221398888>"
      ]
     },
     "execution_count": 23,
     "metadata": {},
     "output_type": "execute_result"
    },
    {
     "data": {
      "image/png": "[encoded data removed]",
      "text/plain": [
       "<Figure size 432x288 with 1 Axes>"
      ]
     },
     "metadata": {
      "needs_background": "light"
     },
     "output_type": "display_data"
    }
   ],
   "source": [
    "df.groupby('pclass')['survived'].mean().plot(kind='bar')\n",
    "#We can see that the people in 1st class have highest survival percentage when compared to 2nd,3rd class."
   ]
  },
  {
   "cell_type": "code",
   "execution_count": 24,
   "metadata": {},
   "outputs": [
    {
     "data": {
      "text/plain": [
       "<matplotlib.axes._subplots.AxesSubplot at 0x2a2213f7748>"
      ]
     },
     "execution_count": 24,
     "metadata": {},
     "output_type": "execute_result"
    },
    {
     "data": {
      "image/png": "[encoded data removed]",
      "text/plain": [
       "<Figure size 432x288 with 1 Axes>"
      ]
     },
     "metadata": {
      "needs_background": "light"
     },
     "output_type": "display_data"
    }
   ],
   "source": [
    "df.groupby('parch')['survived'].mean().plot(kind='bar')\n",
    "#The below graph denotes the people who came with their parents and children and their survival percentage\n"
   ]
  },
  {
   "cell_type": "code",
   "execution_count": 25,
   "metadata": {},
   "outputs": [
    {
     "data": {
      "text/plain": [
       "<matplotlib.axes._subplots.AxesSubplot at 0x2a22146fdc8>"
      ]
     },
     "execution_count": 25,
     "metadata": {},
     "output_type": "execute_result"
    },
    {
     "data": {
      "image/png": "[encoded data removed]",
      "text/plain": [
       "<Figure size 432x288 with 1 Axes>"
      ]
     },
     "metadata": {
      "needs_background": "light"
     },
     "output_type": "display_data"
    }
   ],
   "source": [
    "df.groupby('alone')['survived'].mean().plot(kind='bar')\n",
    "#The persons who came alone is having low percentage of survival."
   ]
  },
  {
   "cell_type": "markdown",
   "metadata": {},
   "source": [
    "## Feature Selection "
   ]
  },
  {
   "cell_type": "markdown",
   "metadata": {},
   "source": [
    "### 1. Pearson co-efficient"
   ]
  },
  {
   "cell_type": "code",
   "execution_count": 41,
   "metadata": {},
   "outputs": [
    {
     "data": {
      "text/plain": [
       "<matplotlib.axes._subplots.AxesSubplot at 0x2a22147ba08>"
      ]
     },
     "execution_count": 41,
     "metadata": {},
     "output_type": "execute_result"
    },
    {
     "data": {
      "image/png": "[encoded data removed]",
      "text/plain": [
       "<Figure size 720x864 with 2 Axes>"
      ]
     },
     "metadata": {
      "needs_background": "light"
     },
     "output_type": "display_data"
    }
   ],
   "source": [
    "plt.figure(figsize=(10,12))\n",
    "sns.heatmap(df.corr(),annot=True,cmap=plt.cm.CMRmap_r)"
   ]
  },
  {
   "cell_type": "code",
   "execution_count": 36,
   "metadata": {},
   "outputs": [],
   "source": [
    "def remove_high_corr(df,threshold):\n",
    "    result=[]\n",
    "    corr_matrix=df.corr()\n",
    "    for i in range(len(corr_matrix)):\n",
    "        for j in range(i):\n",
    "            if corr_matrix.iloc[i,j]>threshold:\n",
    "                column=df.columns[i]\n",
    "                result.append(column)\n",
    "    return result\n",
    "            "
   ]
  },
  {
   "cell_type": "code",
   "execution_count": 38,
   "metadata": {},
   "outputs": [
    {
     "data": {
      "text/plain": [
       "[]"
      ]
     },
     "execution_count": 38,
     "metadata": {},
     "output_type": "execute_result"
    }
   ],
   "source": [
    "remove_high_corr(df,0.9)"
   ]
  },
  {
   "cell_type": "code",
   "execution_count": 67,
   "metadata": {},
   "outputs": [
    {
     "data": {
      "text/plain": [
       "Index(['survived', 'pclass', 'sex', 'age', 'sibsp', 'parch', 'fare',\n",
       "       'embarked', 'cabin', 'alone', 'cabin_null'],\n",
       "      dtype='object')"
      ]
     },
     "execution_count": 67,
     "metadata": {},
     "output_type": "execute_result"
    }
   ],
   "source": [
    "df.columns"
   ]
  },
  {
   "cell_type": "markdown",
   "metadata": {},
   "source": [
    "### We are dropping the columns  'embarked', 'cabin', 'alone', 'cabin_null' since these features will not add any meaning to predicting whether a person has survived or not."
   ]
  },
  {
   "cell_type": "code",
   "execution_count": 69,
   "metadata": {},
   "outputs": [],
   "source": [
    "x=x.drop('survived',axis=1)"
   ]
  },
  {
   "cell_type": "code",
   "execution_count": 70,
   "metadata": {},
   "outputs": [],
   "source": [
    "y=df['survived']"
   ]
  },
  {
   "cell_type": "code",
   "execution_count": 71,
   "metadata": {},
   "outputs": [
    {
     "data": {
      "text/html": [
       "<div>\n",
       "<style scoped>\n",
       "    .dataframe tbody tr th:only-of-type {\n",
       "        vertical-align: middle;\n",
       "    }\n",
       "\n",
       "    .dataframe tbody tr th {\n",
       "        vertical-align: top;\n",
       "    }\n",
       "\n",
       "    .dataframe thead th {\n",
       "        text-align: right;\n",
       "    }\n",
       "</style>\n",
       "<table border=\"1\" class=\"dataframe\">\n",
       "  <thead>\n",
       "    <tr style=\"text-align: right;\">\n",
       "      <th></th>\n",
       "      <th>pclass</th>\n",
       "      <th>sex</th>\n",
       "      <th>age</th>\n",
       "      <th>sibsp</th>\n",
       "      <th>parch</th>\n",
       "      <th>fare</th>\n",
       "    </tr>\n",
       "  </thead>\n",
       "  <tbody>\n",
       "    <tr>\n",
       "      <th>0</th>\n",
       "      <td>3</td>\n",
       "      <td>1</td>\n",
       "      <td>22.0</td>\n",
       "      <td>1</td>\n",
       "      <td>0</td>\n",
       "      <td>7.2500</td>\n",
       "    </tr>\n",
       "    <tr>\n",
       "      <th>1</th>\n",
       "      <td>1</td>\n",
       "      <td>0</td>\n",
       "      <td>38.0</td>\n",
       "      <td>1</td>\n",
       "      <td>0</td>\n",
       "      <td>71.2833</td>\n",
       "    </tr>\n",
       "    <tr>\n",
       "      <th>2</th>\n",
       "      <td>3</td>\n",
       "      <td>0</td>\n",
       "      <td>26.0</td>\n",
       "      <td>0</td>\n",
       "      <td>0</td>\n",
       "      <td>7.9250</td>\n",
       "    </tr>\n",
       "    <tr>\n",
       "      <th>3</th>\n",
       "      <td>1</td>\n",
       "      <td>0</td>\n",
       "      <td>35.0</td>\n",
       "      <td>1</td>\n",
       "      <td>0</td>\n",
       "      <td>53.1000</td>\n",
       "    </tr>\n",
       "    <tr>\n",
       "      <th>4</th>\n",
       "      <td>3</td>\n",
       "      <td>1</td>\n",
       "      <td>35.0</td>\n",
       "      <td>0</td>\n",
       "      <td>0</td>\n",
       "      <td>8.0500</td>\n",
       "    </tr>\n",
       "  </tbody>\n",
       "</table>\n",
       "</div>"
      ],
      "text/plain": [
       "   pclass  sex   age  sibsp  parch     fare\n",
       "0       3    1  22.0      1      0   7.2500\n",
       "1       1    0  38.0      1      0  71.2833\n",
       "2       3    0  26.0      0      0   7.9250\n",
       "3       1    0  35.0      1      0  53.1000\n",
       "4       3    1  35.0      0      0   8.0500"
      ]
     },
     "execution_count": 71,
     "metadata": {},
     "output_type": "execute_result"
    }
   ],
   "source": [
    "x.head()"
   ]
  },
  {
   "cell_type": "code",
   "execution_count": 72,
   "metadata": {},
   "outputs": [
    {
     "name": "stdout",
     "output_type": "stream",
     "text": [
      "<class 'pandas.core.frame.DataFrame'>\n",
      "RangeIndex: 891 entries, 0 to 890\n",
      "Data columns (total 6 columns):\n",
      " #   Column  Non-Null Count  Dtype  \n",
      "---  ------  --------------  -----  \n",
      " 0   pclass  891 non-null    int64  \n",
      " 1   sex     891 non-null    int64  \n",
      " 2   age     891 non-null    float64\n",
      " 3   sibsp   891 non-null    int64  \n",
      " 4   parch   891 non-null    int64  \n",
      " 5   fare    891 non-null    float64\n",
      "dtypes: float64(2), int64(4)\n",
      "memory usage: 41.9 KB\n"
     ]
    }
   ],
   "source": [
    "x.info()"
   ]
  },
  {
   "cell_type": "markdown",
   "metadata": {},
   "source": [
    "### 2.Information Gain"
   ]
  },
  {
   "cell_type": "code",
   "execution_count": 73,
   "metadata": {},
   "outputs": [],
   "source": [
    "from sklearn.feature_selection import mutual_info_classif\n",
    "feature=mutual_info_classif(x,y)"
   ]
  },
  {
   "cell_type": "code",
   "execution_count": 74,
   "metadata": {},
   "outputs": [
    {
     "data": {
      "text/plain": [
       "pclass    0.070789\n",
       "sex       0.147642\n",
       "age       0.037607\n",
       "sibsp     0.020007\n",
       "parch     0.000000\n",
       "fare      0.127992\n",
       "dtype: float64"
      ]
     },
     "execution_count": 74,
     "metadata": {},
     "output_type": "execute_result"
    }
   ],
   "source": [
    "features=pd.Series(feature,index=x.columns)\n",
    "features"
   ]
  },
  {
   "cell_type": "code",
   "execution_count": 76,
   "metadata": {},
   "outputs": [
    {
     "data": {
      "text/plain": [
       "<matplotlib.axes._subplots.AxesSubplot at 0x2a2255eab88>"
      ]
     },
     "execution_count": 76,
     "metadata": {},
     "output_type": "execute_result"
    },
    {
     "data": {
      "image/png": "[encoded data removed]",
      "text/plain": [
       "<Figure size 432x288 with 1 Axes>"
      ]
     },
     "metadata": {
      "needs_background": "light"
     },
     "output_type": "display_data"
    }
   ],
   "source": [
    "features.sort_values().plot(kind='bar')"
   ]
  },
  {
   "cell_type": "markdown",
   "metadata": {},
   "source": [
    "### sex column has the highest information gain"
   ]
  },
  {
   "cell_type": "code",
   "execution_count": 77,
   "metadata": {},
   "outputs": [],
   "source": [
    "from sklearn.model_selection import train_test_split"
   ]
  },
  {
   "cell_type": "code",
   "execution_count": 84,
   "metadata": {},
   "outputs": [],
   "source": [
    "from sklearn.preprocessing import StandardScaler\n",
    "scalar=StandardScaler()\n",
    "xscaled=scalar.fit_transform(x)"
   ]
  },
  {
   "cell_type": "code",
   "execution_count": 85,
   "metadata": {},
   "outputs": [],
   "source": [
    "xtrain,xtest,ytrain,ytest=train_test_split(xscaled,y,test_size=0.25,random_state=0)"
   ]
  },
  {
   "cell_type": "code",
   "execution_count": 86,
   "metadata": {},
   "outputs": [
    {
     "data": {
      "text/plain": [
       "(668, 6)"
      ]
     },
     "execution_count": 86,
     "metadata": {},
     "output_type": "execute_result"
    }
   ],
   "source": [
    "xtrain.shape"
   ]
  },
  {
   "cell_type": "code",
   "execution_count": 87,
   "metadata": {},
   "outputs": [
    {
     "data": {
      "text/plain": [
       "(223, 6)"
      ]
     },
     "execution_count": 87,
     "metadata": {},
     "output_type": "execute_result"
    }
   ],
   "source": [
    "xtest.shape"
   ]
  },
  {
   "cell_type": "code",
   "execution_count": 88,
   "metadata": {},
   "outputs": [
    {
     "data": {
      "text/plain": [
       "(668,)"
      ]
     },
     "execution_count": 88,
     "metadata": {},
     "output_type": "execute_result"
    }
   ],
   "source": [
    "ytrain.shape"
   ]
  },
  {
   "cell_type": "code",
   "execution_count": 89,
   "metadata": {},
   "outputs": [
    {
     "data": {
      "text/plain": [
       "(223,)"
      ]
     },
     "execution_count": 89,
     "metadata": {},
     "output_type": "execute_result"
    }
   ],
   "source": [
    "ytest.shape"
   ]
  },
  {
   "cell_type": "code",
   "execution_count": 90,
   "metadata": {},
   "outputs": [
    {
     "data": {
      "text/plain": [
       "DecisionTreeClassifier(random_state=100)"
      ]
     },
     "execution_count": 90,
     "metadata": {},
     "output_type": "execute_result"
    }
   ],
   "source": [
    "from sklearn.tree import DecisionTreeClassifier\n",
    "clf=DecisionTreeClassifier(random_state=100)\n",
    "clf.fit(xtrain,ytrain)"
   ]
  },
  {
   "cell_type": "code",
   "execution_count": 91,
   "metadata": {},
   "outputs": [
    {
     "data": {
      "text/plain": [
       "0.7757847533632287"
      ]
     },
     "execution_count": 91,
     "metadata": {},
     "output_type": "execute_result"
    }
   ],
   "source": [
    "from sklearn.metrics import accuracy_score\n",
    "pred=clf.predict(xtest)\n",
    "accuracy_score(ytest,pred)"
   ]
  },
  {
   "cell_type": "code",
   "execution_count": 92,
   "metadata": {},
   "outputs": [
    {
     "data": {
      "text/plain": [
       "[Text(277.219921875, 791.4176470588235, 'X[1] <= -0.309\\ngini = 0.474\\nsamples = 668\\nvalue = [410, 258]'),\n",
       " Text(134.4625, 743.4529411764706, 'X[0] <= 0.229\\ngini = 0.372\\nsamples = 231\\nvalue = [57, 174]'),\n",
       " Text(52.7, 695.4882352941177, 'X[2] <= -1.652\\ngini = 0.116\\nsamples = 129\\nvalue = [8, 121]'),\n",
       " Text(46.5, 647.5235294117647, 'gini = 0.0\\nsamples = 1\\nvalue = [1, 0]'),\n",
       " Text(58.9, 647.5235294117647, 'X[5] <= -0.067\\ngini = 0.103\\nsamples = 128\\nvalue = [7, 121]'),\n",
       " Text(46.5, 599.5588235294117, 'X[5] <= -0.08\\ngini = 0.201\\nsamples = 53\\nvalue = [6, 47]'),\n",
       " Text(40.300000000000004, 551.5941176470587, 'X[2] <= -0.062\\ngini = 0.174\\nsamples = 52\\nvalue = [5, 47]'),\n",
       " Text(24.8, 503.6294117647059, 'X[2] <= -0.5\\ngini = 0.102\\nsamples = 37\\nvalue = [2, 35]'),\n",
       " Text(18.6, 455.66470588235296, 'X[2] <= -0.684\\ngini = 0.198\\nsamples = 18\\nvalue = [2, 16]'),\n",
       " Text(12.4, 407.7, 'gini = 0.0\\nsamples = 11\\nvalue = [0, 11]'),\n",
       " Text(24.8, 407.7, 'X[4] <= 0.147\\ngini = 0.408\\nsamples = 7\\nvalue = [2, 5]'),\n",
       " Text(18.6, 359.7352941176471, 'X[5] <= -0.297\\ngini = 0.48\\nsamples = 5\\nvalue = [2, 3]'),\n",
       " Text(12.4, 311.77058823529416, 'X[2] <= -0.592\\ngini = 0.375\\nsamples = 4\\nvalue = [1, 3]'),\n",
       " Text(6.2, 263.80588235294124, 'gini = 0.5\\nsamples = 2\\nvalue = [1, 1]'),\n",
       " Text(18.6, 263.80588235294124, 'gini = 0.0\\nsamples = 2\\nvalue = [0, 2]'),\n",
       " Text(24.8, 311.77058823529416, 'gini = 0.0\\nsamples = 1\\nvalue = [1, 0]'),\n",
       " Text(31.0, 359.7352941176471, 'gini = 0.0\\nsamples = 2\\nvalue = [0, 2]'),\n",
       " Text(31.0, 455.66470588235296, 'gini = 0.0\\nsamples = 19\\nvalue = [0, 19]'),\n",
       " Text(55.800000000000004, 503.6294117647059, 'X[2] <= 0.03\\ngini = 0.32\\nsamples = 15\\nvalue = [3, 12]'),\n",
       " Text(49.6, 455.66470588235296, 'gini = 0.0\\nsamples = 1\\nvalue = [1, 0]'),\n",
       " Text(62.0, 455.66470588235296, 'X[5] <= -0.418\\ngini = 0.245\\nsamples = 14\\nvalue = [2, 12]'),\n",
       " Text(49.6, 407.7, 'X[2] <= 0.698\\ngini = 0.5\\nsamples = 2\\nvalue = [1, 1]'),\n",
       " Text(43.4, 359.7352941176471, 'gini = 0.0\\nsamples = 1\\nvalue = [0, 1]'),\n",
       " Text(55.800000000000004, 359.7352941176471, 'gini = 0.0\\nsamples = 1\\nvalue = [1, 0]'),\n",
       " Text(74.4, 407.7, 'X[3] <= -0.021\\ngini = 0.153\\nsamples = 12\\nvalue = [1, 11]'),\n",
       " Text(68.2, 359.7352941176471, 'gini = 0.0\\nsamples = 10\\nvalue = [0, 10]'),\n",
       " Text(80.60000000000001, 359.7352941176471, 'X[2] <= 0.49\\ngini = 0.5\\nsamples = 2\\nvalue = [1, 1]'),\n",
       " Text(74.4, 311.77058823529416, 'gini = 0.0\\nsamples = 1\\nvalue = [1, 0]'),\n",
       " Text(86.8, 311.77058823529416, 'gini = 0.0\\nsamples = 1\\nvalue = [0, 1]'),\n",
       " Text(52.7, 551.5941176470587, 'gini = 0.0\\nsamples = 1\\nvalue = [1, 0]'),\n",
       " Text(71.3, 599.5588235294117, 'X[5] <= 2.352\\ngini = 0.026\\nsamples = 75\\nvalue = [1, 74]'),\n",
       " Text(65.10000000000001, 551.5941176470587, 'gini = 0.0\\nsamples = 65\\nvalue = [0, 65]'),\n",
       " Text(77.5, 551.5941176470587, 'X[5] <= 2.422\\ngini = 0.18\\nsamples = 10\\nvalue = [1, 9]'),\n",
       " Text(71.3, 503.6294117647059, 'gini = 0.0\\nsamples = 1\\nvalue = [1, 0]'),\n",
       " Text(83.7, 503.6294117647059, 'gini = 0.0\\nsamples = 9\\nvalue = [0, 9]'),\n",
       " Text(216.225, 695.4882352941177, 'X[5] <= -0.178\\ngini = 0.499\\nsamples = 102\\nvalue = [49, 53]'),\n",
       " Text(178.25, 647.5235294117647, 'X[2] <= 1.004\\ngini = 0.469\\nsamples = 80\\nvalue = [30, 50]'),\n",
       " Text(145.70000000000002, 599.5588235294117, 'X[2] <= -0.5\\ngini = 0.494\\nsamples = 54\\nvalue = [24, 30]'),\n",
       " Text(124.0, 551.5941176470587, 'X[5] <= -0.492\\ngini = 0.459\\nsamples = 42\\nvalue = [15, 27]'),\n",
       " Text(117.8, 503.6294117647059, 'gini = 0.0\\nsamples = 6\\nvalue = [0, 6]'),\n",
       " Text(130.20000000000002, 503.6294117647059, 'X[4] <= 1.388\\ngini = 0.486\\nsamples = 36\\nvalue = [15, 21]'),\n",
       " Text(124.0, 455.66470588235296, 'X[5] <= -0.368\\ngini = 0.499\\nsamples = 31\\nvalue = [15, 16]'),\n",
       " Text(111.60000000000001, 407.7, 'X[5] <= -0.419\\ngini = 0.455\\nsamples = 20\\nvalue = [7, 13]'),\n",
       " Text(105.4, 359.7352941176471, 'X[5] <= -0.444\\ngini = 0.492\\nsamples = 16\\nvalue = [7, 9]'),\n",
       " Text(99.2, 311.77058823529416, 'X[2] <= -0.592\\ngini = 0.459\\nsamples = 14\\nvalue = [5, 9]'),\n",
       " Text(93.0, 263.80588235294124, 'X[2] <= -0.73\\ngini = 0.496\\nsamples = 11\\nvalue = [5, 6]'),\n",
       " Text(86.8, 215.84117647058827, 'X[5] <= -0.467\\ngini = 0.375\\nsamples = 8\\nvalue = [2, 6]'),\n",
       " Text(80.60000000000001, 167.8764705882353, 'X[5] <= -0.48\\ngini = 0.444\\nsamples = 6\\nvalue = [2, 4]'),\n",
       " Text(74.4, 119.91176470588243, 'X[5] <= -0.491\\ngini = 0.32\\nsamples = 5\\nvalue = [1, 4]'),\n",
       " Text(68.2, 71.94705882352946, 'X[2] <= -0.846\\ngini = 0.5\\nsamples = 2\\nvalue = [1, 1]'),\n",
       " Text(62.0, 23.982352941176487, 'gini = 0.0\\nsamples = 1\\nvalue = [1, 0]'),\n",
       " Text(74.4, 23.982352941176487, 'gini = 0.0\\nsamples = 1\\nvalue = [0, 1]'),\n",
       " Text(80.60000000000001, 71.94705882352946, 'gini = 0.0\\nsamples = 3\\nvalue = [0, 3]'),\n",
       " Text(86.8, 119.91176470588243, 'gini = 0.0\\nsamples = 1\\nvalue = [1, 0]'),\n",
       " Text(93.0, 167.8764705882353, 'gini = 0.0\\nsamples = 2\\nvalue = [0, 2]'),\n",
       " Text(99.2, 215.84117647058827, 'gini = 0.0\\nsamples = 3\\nvalue = [3, 0]'),\n",
       " Text(105.4, 263.80588235294124, 'gini = 0.0\\nsamples = 3\\nvalue = [0, 3]'),\n",
       " Text(111.60000000000001, 311.77058823529416, 'gini = 0.0\\nsamples = 2\\nvalue = [2, 0]'),\n",
       " Text(117.8, 359.7352941176471, 'gini = 0.0\\nsamples = 4\\nvalue = [0, 4]'),\n",
       " Text(136.4, 407.7, 'X[2] <= -1.03\\ngini = 0.397\\nsamples = 11\\nvalue = [8, 3]'),\n",
       " Text(130.20000000000002, 359.7352941176471, 'X[5] <= -0.242\\ngini = 0.5\\nsamples = 6\\nvalue = [3, 3]'),\n",
       " Text(124.0, 311.77058823529416, 'X[4] <= 0.147\\ngini = 0.375\\nsamples = 4\\nvalue = [1, 3]'),\n",
       " Text(117.8, 263.80588235294124, 'X[2] <= -1.088\\ngini = 0.5\\nsamples = 2\\nvalue = [1, 1]'),\n",
       " Text(111.60000000000001, 215.84117647058827, 'gini = 0.0\\nsamples = 1\\nvalue = [1, 0]'),\n",
       " Text(124.0, 215.84117647058827, 'gini = 0.0\\nsamples = 1\\nvalue = [0, 1]'),\n",
       " Text(130.20000000000002, 263.80588235294124, 'gini = 0.0\\nsamples = 2\\nvalue = [0, 2]'),\n",
       " Text(136.4, 311.77058823529416, 'gini = 0.0\\nsamples = 2\\nvalue = [2, 0]'),\n",
       " Text(142.6, 359.7352941176471, 'gini = 0.0\\nsamples = 5\\nvalue = [5, 0]'),\n",
       " Text(136.4, 455.66470588235296, 'gini = 0.0\\nsamples = 5\\nvalue = [0, 5]'),\n",
       " Text(167.4, 551.5941176470587, 'X[5] <= -0.317\\ngini = 0.375\\nsamples = 12\\nvalue = [9, 3]'),\n",
       " Text(155.0, 503.6294117647059, 'X[5] <= -0.474\\ngini = 0.198\\nsamples = 9\\nvalue = [8, 1]'),\n",
       " Text(148.8, 455.66470588235296, 'gini = 0.0\\nsamples = 5\\nvalue = [5, 0]'),\n",
       " Text(161.20000000000002, 455.66470588235296, 'X[5] <= -0.416\\ngini = 0.375\\nsamples = 4\\nvalue = [3, 1]'),\n",
       " Text(155.0, 407.7, 'gini = 0.0\\nsamples = 1\\nvalue = [0, 1]'),\n",
       " Text(167.4, 407.7, 'gini = 0.0\\nsamples = 3\\nvalue = [3, 0]'),\n",
       " Text(179.8, 503.6294117647059, 'X[4] <= 1.388\\ngini = 0.444\\nsamples = 3\\nvalue = [1, 2]'),\n",
       " Text(173.6, 455.66470588235296, 'gini = 0.0\\nsamples = 2\\nvalue = [0, 2]'),\n",
       " Text(186.0, 455.66470588235296, 'gini = 0.0\\nsamples = 1\\nvalue = [1, 0]'),\n",
       " Text(210.8, 599.5588235294117, 'X[5] <= -0.494\\ngini = 0.355\\nsamples = 26\\nvalue = [6, 20]'),\n",
       " Text(198.4, 551.5941176470587, 'X[5] <= -0.5\\ngini = 0.444\\nsamples = 3\\nvalue = [2, 1]'),\n",
       " Text(192.20000000000002, 503.6294117647059, 'gini = 0.0\\nsamples = 1\\nvalue = [0, 1]'),\n",
       " Text(204.6, 503.6294117647059, 'gini = 0.0\\nsamples = 2\\nvalue = [2, 0]'),\n",
       " Text(223.20000000000002, 551.5941176470587, 'X[5] <= -0.347\\ngini = 0.287\\nsamples = 23\\nvalue = [4, 19]'),\n",
       " Text(217.0, 503.6294117647059, 'X[5] <= -0.488\\ngini = 0.375\\nsamples = 16\\nvalue = [4, 12]'),\n",
       " Text(210.8, 455.66470588235296, 'X[4] <= 0.768\\ngini = 0.142\\nsamples = 13\\nvalue = [1, 12]'),\n",
       " Text(204.6, 407.7, 'gini = 0.0\\nsamples = 12\\nvalue = [0, 12]'),\n",
       " Text(217.0, 407.7, 'gini = 0.0\\nsamples = 1\\nvalue = [1, 0]'),\n",
       " Text(223.20000000000002, 455.66470588235296, 'gini = 0.0\\nsamples = 3\\nvalue = [3, 0]'),\n",
       " Text(229.4, 503.6294117647059, 'gini = 0.0\\nsamples = 7\\nvalue = [0, 7]'),\n",
       " Text(254.20000000000002, 647.5235294117647, 'X[4] <= 0.147\\ngini = 0.236\\nsamples = 22\\nvalue = [19, 3]'),\n",
       " Text(248.0, 599.5588235294117, 'gini = 0.0\\nsamples = 1\\nvalue = [0, 1]'),\n",
       " Text(260.40000000000003, 599.5588235294117, 'X[2] <= -1.514\\ngini = 0.172\\nsamples = 21\\nvalue = [19, 2]'),\n",
       " Text(248.0, 551.5941176470587, 'X[2] <= -1.606\\ngini = 0.5\\nsamples = 2\\nvalue = [1, 1]'),\n",
       " Text(241.8, 503.6294117647059, 'gini = 0.0\\nsamples = 1\\nvalue = [1, 0]'),\n",
       " Text(254.20000000000002, 503.6294117647059, 'gini = 0.0\\nsamples = 1\\nvalue = [0, 1]'),\n",
       " Text(272.8, 551.5941176470587, 'X[4] <= 4.492\\ngini = 0.1\\nsamples = 19\\nvalue = [18, 1]'),\n",
       " Text(266.6, 503.6294117647059, 'gini = 0.0\\nsamples = 15\\nvalue = [15, 0]'),\n",
       " Text(279.0, 503.6294117647059, 'X[2] <= 0.007\\ngini = 0.375\\nsamples = 4\\nvalue = [3, 1]'),\n",
       " Text(272.8, 455.66470588235296, 'gini = 0.0\\nsamples = 1\\nvalue = [0, 1]'),\n",
       " Text(285.2, 455.66470588235296, 'gini = 0.0\\nsamples = 3\\nvalue = [3, 0]'),\n",
       " Text(419.97734375, 743.4529411764706, 'X[2] <= -1.122\\ngini = 0.311\\nsamples = 437\\nvalue = [353, 84]'),\n",
       " Text(310.0, 695.4882352941177, 'X[3] <= 1.794\\ngini = 0.491\\nsamples = 30\\nvalue = [13, 17]'),\n",
       " Text(297.6, 647.5235294117647, 'X[4] <= 0.147\\ngini = 0.111\\nsamples = 17\\nvalue = [1, 16]'),\n",
       " Text(291.40000000000003, 599.5588235294117, 'X[5] <= -0.346\\ngini = 0.5\\nsamples = 2\\nvalue = [1, 1]'),\n",
       " Text(285.2, 551.5941176470587, 'gini = 0.0\\nsamples = 1\\nvalue = [0, 1]'),\n",
       " Text(297.6, 551.5941176470587, 'gini = 0.0\\nsamples = 1\\nvalue = [1, 0]'),\n",
       " Text(303.8, 599.5588235294117, 'gini = 0.0\\nsamples = 15\\nvalue = [0, 15]'),\n",
       " Text(322.40000000000003, 647.5235294117647, 'X[2] <= -1.606\\ngini = 0.142\\nsamples = 13\\nvalue = [12, 1]'),\n",
       " Text(316.2, 599.5588235294117, 'X[2] <= -1.652\\ngini = 0.278\\nsamples = 6\\nvalue = [5, 1]'),\n",
       " Text(310.0, 551.5941176470587, 'gini = 0.0\\nsamples = 5\\nvalue = [5, 0]'),\n",
       " Text(322.40000000000003, 551.5941176470587, 'gini = 0.0\\nsamples = 1\\nvalue = [0, 1]'),\n",
       " Text(328.6, 599.5588235294117, 'gini = 0.0\\nsamples = 7\\nvalue = [7, 0]'),\n",
       " Text(529.9546875, 695.4882352941177, 'X[0] <= -0.968\\ngini = 0.275\\nsamples = 407\\nvalue = [340, 67]'),\n",
       " Text(399.90000000000003, 647.5235294117647, 'X[2] <= 0.675\\ngini = 0.439\\nsamples = 89\\nvalue = [60, 29]'),\n",
       " Text(365.8, 599.5588235294117, 'X[5] <= 0.006\\ngini = 0.495\\nsamples = 60\\nvalue = [33, 27]'),\n",
       " Text(334.8, 551.5941176470587, 'X[5] <= -0.126\\ngini = 0.472\\nsamples = 21\\nvalue = [8, 13]'),\n",
       " Text(328.6, 503.6294117647059, 'gini = 0.0\\nsamples = 4\\nvalue = [4, 0]'),\n",
       " Text(341.0, 503.6294117647059, 'X[4] <= 0.147\\ngini = 0.36\\nsamples = 17\\nvalue = [4, 13]'),\n",
       " Text(334.8, 455.66470588235296, 'X[2] <= -0.27\\ngini = 0.305\\nsamples = 16\\nvalue = [3, 13]'),\n",
       " Text(322.40000000000003, 407.7, 'X[2] <= -0.454\\ngini = 0.48\\nsamples = 5\\nvalue = [2, 3]'),\n",
       " Text(316.2, 359.7352941176471, 'gini = 0.0\\nsamples = 3\\nvalue = [0, 3]'),\n",
       " Text(328.6, 359.7352941176471, 'gini = 0.0\\nsamples = 2\\nvalue = [2, 0]'),\n",
       " Text(347.2, 407.7, 'X[2] <= 0.237\\ngini = 0.165\\nsamples = 11\\nvalue = [1, 10]'),\n",
       " Text(341.0, 359.7352941176471, 'gini = 0.0\\nsamples = 6\\nvalue = [0, 6]'),\n",
       " Text(353.40000000000003, 359.7352941176471, 'X[2] <= 0.375\\ngini = 0.32\\nsamples = 5\\nvalue = [1, 4]'),\n",
       " Text(347.2, 311.77058823529416, 'gini = 0.5\\nsamples = 2\\nvalue = [1, 1]'),\n",
       " Text(359.6, 311.77058823529416, 'gini = 0.0\\nsamples = 3\\nvalue = [0, 3]'),\n",
       " Text(347.2, 455.66470588235296, 'gini = 0.0\\nsamples = 1\\nvalue = [1, 0]'),\n",
       " Text(396.8, 551.5941176470587, 'X[5] <= 7.001\\ngini = 0.46\\nsamples = 39\\nvalue = [25, 14]'),\n",
       " Text(390.6, 503.6294117647059, 'X[3] <= -0.021\\ngini = 0.438\\nsamples = 37\\nvalue = [25, 12]'),\n",
       " Text(378.2, 455.66470588235296, 'X[2] <= -0.892\\ngini = 0.208\\nsamples = 17\\nvalue = [15, 2]'),\n",
       " Text(372.0, 407.7, 'gini = 0.0\\nsamples = 1\\nvalue = [0, 1]'),\n",
       " Text(384.40000000000003, 407.7, 'X[5] <= 0.097\\ngini = 0.117\\nsamples = 16\\nvalue = [15, 1]'),\n",
       " Text(378.2, 359.7352941176471, 'X[2] <= -0.086\\ngini = 0.444\\nsamples = 3\\nvalue = [2, 1]'),\n",
       " Text(372.0, 311.77058823529416, 'gini = 0.0\\nsamples = 1\\nvalue = [0, 1]'),\n",
       " Text(384.40000000000003, 311.77058823529416, 'gini = 0.0\\nsamples = 2\\nvalue = [2, 0]'),\n",
       " Text(390.6, 359.7352941176471, 'gini = 0.0\\nsamples = 13\\nvalue = [13, 0]'),\n",
       " Text(403.0, 455.66470588235296, 'X[5] <= 0.404\\ngini = 0.5\\nsamples = 20\\nvalue = [10, 10]'),\n",
       " Text(396.8, 407.7, 'gini = 0.0\\nsamples = 1\\nvalue = [1, 0]'),\n",
       " Text(409.2, 407.7, 'X[5] <= 0.415\\ngini = 0.499\\nsamples = 19\\nvalue = [9, 10]'),\n",
       " Text(403.0, 359.7352941176471, 'gini = 0.0\\nsamples = 2\\nvalue = [0, 2]'),\n",
       " Text(415.40000000000003, 359.7352941176471, 'X[5] <= 1.813\\ngini = 0.498\\nsamples = 17\\nvalue = [9, 8]'),\n",
       " Text(409.2, 311.77058823529416, 'X[2] <= 0.513\\ngini = 0.492\\nsamples = 16\\nvalue = [9, 7]'),\n",
       " Text(403.0, 263.80588235294124, 'X[2] <= 0.398\\ngini = 0.5\\nsamples = 14\\nvalue = [7, 7]'),\n",
       " Text(387.5, 215.84117647058827, 'X[5] <= 0.541\\ngini = 0.48\\nsamples = 10\\nvalue = [6, 4]'),\n",
       " Text(375.1, 167.8764705882353, 'X[5] <= 0.444\\ngini = 0.48\\nsamples = 5\\nvalue = [2, 3]'),\n",
       " Text(368.90000000000003, 119.91176470588243, 'X[2] <= -0.707\\ngini = 0.444\\nsamples = 3\\nvalue = [2, 1]'),\n",
       " Text(362.7, 71.94705882352946, 'gini = 0.0\\nsamples = 1\\nvalue = [1, 0]'),\n",
       " Text(375.1, 71.94705882352946, 'X[2] <= -0.293\\ngini = 0.5\\nsamples = 2\\nvalue = [1, 1]'),\n",
       " Text(368.90000000000003, 23.982352941176487, 'gini = 0.0\\nsamples = 1\\nvalue = [0, 1]'),\n",
       " Text(381.3, 23.982352941176487, 'gini = 0.0\\nsamples = 1\\nvalue = [1, 0]'),\n",
       " Text(381.3, 119.91176470588243, 'gini = 0.0\\nsamples = 2\\nvalue = [0, 2]'),\n",
       " Text(399.90000000000003, 167.8764705882353, 'X[5] <= 1.051\\ngini = 0.32\\nsamples = 5\\nvalue = [4, 1]'),\n",
       " Text(393.7, 119.91176470588243, 'gini = 0.0\\nsamples = 3\\nvalue = [3, 0]'),\n",
       " Text(406.1, 119.91176470588243, 'X[2] <= 0.122\\ngini = 0.5\\nsamples = 2\\nvalue = [1, 1]'),\n",
       " Text(399.90000000000003, 71.94705882352946, 'gini = 0.0\\nsamples = 1\\nvalue = [0, 1]'),\n",
       " Text(412.3, 71.94705882352946, 'gini = 0.0\\nsamples = 1\\nvalue = [1, 0]'),\n",
       " Text(418.5, 215.84117647058827, 'X[4] <= 0.147\\ngini = 0.375\\nsamples = 4\\nvalue = [1, 3]'),\n",
       " Text(412.3, 167.8764705882353, 'gini = 0.0\\nsamples = 3\\nvalue = [0, 3]'),\n",
       " Text(424.7, 167.8764705882353, 'gini = 0.0\\nsamples = 1\\nvalue = [1, 0]'),\n",
       " Text(415.40000000000003, 263.80588235294124, 'gini = 0.0\\nsamples = 2\\nvalue = [2, 0]'),\n",
       " Text(421.6, 311.77058823529416, 'gini = 0.0\\nsamples = 1\\nvalue = [0, 1]'),\n",
       " Text(403.0, 503.6294117647059, 'gini = 0.0\\nsamples = 2\\nvalue = [0, 2]'),\n",
       " Text(434.0, 599.5588235294117, 'X[2] <= 1.764\\ngini = 0.128\\nsamples = 29\\nvalue = [27, 2]'),\n",
       " Text(427.8, 551.5941176470587, 'X[5] <= -0.102\\ngini = 0.069\\nsamples = 28\\nvalue = [27, 1]'),\n",
       " Text(421.6, 503.6294117647059, 'X[5] <= -0.119\\ngini = 0.219\\nsamples = 8\\nvalue = [7, 1]'),\n",
       " Text(415.40000000000003, 455.66470588235296, 'gini = 0.0\\nsamples = 3\\nvalue = [3, 0]'),\n",
       " Text(427.8, 455.66470588235296, 'X[2] <= 1.418\\ngini = 0.32\\nsamples = 5\\nvalue = [4, 1]'),\n",
       " Text(421.6, 407.7, 'gini = 0.0\\nsamples = 3\\nvalue = [3, 0]'),\n",
       " Text(434.0, 407.7, 'gini = 0.5\\nsamples = 2\\nvalue = [1, 1]'),\n",
       " Text(434.0, 503.6294117647059, 'gini = 0.0\\nsamples = 20\\nvalue = [20, 0]'),\n",
       " Text(440.2, 551.5941176470587, 'gini = 0.0\\nsamples = 1\\nvalue = [0, 1]'),\n",
       " Text(660.009375, 647.5235294117647, 'X[2] <= -0.27\\ngini = 0.21\\nsamples = 318\\nvalue = [280, 38]'),\n",
       " Text(580.28125, 599.5588235294117, 'X[2] <= -0.35\\ngini = 0.259\\nsamples = 157\\nvalue = [133, 24]'),\n",
       " Text(503.3625, 551.5941176470587, 'X[5] <= -0.503\\ngini = 0.211\\nsamples = 142\\nvalue = [125, 17]'),\n",
       " Text(446.40000000000003, 503.6294117647059, 'X[2] <= -0.8\\ngini = 0.426\\nsamples = 13\\nvalue = [9, 4]'),\n",
       " Text(440.2, 455.66470588235296, 'gini = 0.0\\nsamples = 6\\nvalue = [6, 0]'),\n",
       " Text(452.6, 455.66470588235296, 'X[5] <= -0.507\\ngini = 0.49\\nsamples = 7\\nvalue = [3, 4]'),\n",
       " Text(446.40000000000003, 407.7, 'gini = 0.0\\nsamples = 2\\nvalue = [0, 2]'),\n",
       " Text(458.8, 407.7, 'X[2] <= -0.638\\ngini = 0.48\\nsamples = 5\\nvalue = [3, 2]'),\n",
       " Text(452.6, 359.7352941176471, 'X[5] <= -0.505\\ngini = 0.444\\nsamples = 3\\nvalue = [1, 2]'),\n",
       " Text(446.40000000000003, 311.77058823529416, 'gini = 0.0\\nsamples = 1\\nvalue = [1, 0]'),\n",
       " Text(458.8, 311.77058823529416, 'gini = 0.0\\nsamples = 2\\nvalue = [0, 2]'),\n",
       " Text(465.0, 359.7352941176471, 'gini = 0.0\\nsamples = 2\\nvalue = [2, 0]'),\n",
       " Text(560.325, 503.6294117647059, 'X[2] <= -0.592\\ngini = 0.181\\nsamples = 129\\nvalue = [116, 13]'),\n",
       " Text(519.25, 455.66470588235296, 'X[2] <= -0.777\\ngini = 0.116\\nsamples = 81\\nvalue = [76, 5]'),\n",
       " Text(513.0500000000001, 407.7, 'X[3] <= -0.021\\ngini = 0.183\\nsamples = 49\\nvalue = [44, 5]'),\n",
       " Text(486.7, 359.7352941176471, 'X[2] <= -1.007\\ngini = 0.139\\nsamples = 40\\nvalue = [37, 3]'),\n",
       " Text(471.2, 311.77058823529416, 'X[5] <= -0.475\\ngini = 0.278\\nsamples = 6\\nvalue = [5, 1]'),\n",
       " Text(465.0, 263.80588235294124, 'gini = 0.5\\nsamples = 2\\nvalue = [1, 1]'),\n",
       " Text(477.40000000000003, 263.80588235294124, 'gini = 0.0\\nsamples = 4\\nvalue = [4, 0]'),\n",
       " Text(502.2, 311.77058823529416, 'X[0] <= 0.229\\ngini = 0.111\\nsamples = 34\\nvalue = [32, 2]'),\n",
       " Text(489.8, 263.80588235294124, 'X[5] <= -0.427\\ngini = 0.245\\nsamples = 7\\nvalue = [6, 1]'),\n",
       " Text(483.6, 215.84117647058827, 'gini = 0.5\\nsamples = 2\\nvalue = [1, 1]'),\n",
       " Text(496.0, 215.84117647058827, 'gini = 0.0\\nsamples = 5\\nvalue = [5, 0]'),\n",
       " Text(514.6, 263.80588235294124, 'X[5] <= -0.491\\ngini = 0.071\\nsamples = 27\\nvalue = [26, 1]'),\n",
       " Text(508.40000000000003, 215.84117647058827, 'X[5] <= -0.492\\ngini = 0.245\\nsamples = 7\\nvalue = [6, 1]'),\n",
       " Text(502.2, 167.8764705882353, 'gini = 0.0\\nsamples = 5\\nvalue = [5, 0]'),\n",
       " Text(514.6, 167.8764705882353, 'X[2] <= -0.869\\ngini = 0.5\\nsamples = 2\\nvalue = [1, 1]'),\n",
       " Text(508.40000000000003, 119.91176470588243, 'gini = 0.0\\nsamples = 1\\nvalue = [1, 0]'),\n",
       " Text(520.8000000000001, 119.91176470588243, 'gini = 0.0\\nsamples = 1\\nvalue = [0, 1]'),\n",
       " Text(520.8000000000001, 215.84117647058827, 'gini = 0.0\\nsamples = 20\\nvalue = [20, 0]'),\n",
       " Text(539.4, 359.7352941176471, 'X[5] <= -0.309\\ngini = 0.346\\nsamples = 9\\nvalue = [7, 2]'),\n",
       " Text(533.2, 311.77058823529416, 'X[5] <= -0.496\\ngini = 0.5\\nsamples = 4\\nvalue = [2, 2]'),\n",
       " Text(527.0, 263.80588235294124, 'gini = 0.0\\nsamples = 1\\nvalue = [1, 0]'),\n",
       " Text(539.4, 263.80588235294124, 'X[2] <= -0.823\\ngini = 0.444\\nsamples = 3\\nvalue = [1, 2]'),\n",
       " Text(533.2, 215.84117647058827, 'gini = 0.0\\nsamples = 2\\nvalue = [0, 2]'),\n",
       " Text(545.6, 215.84117647058827, 'gini = 0.0\\nsamples = 1\\nvalue = [1, 0]'),\n",
       " Text(545.6, 311.77058823529416, 'gini = 0.0\\nsamples = 5\\nvalue = [5, 0]'),\n",
       " Text(525.45, 407.7, 'gini = 0.0\\nsamples = 32\\nvalue = [32, 0]'),\n",
       " Text(601.4, 455.66470588235296, 'X[0] <= 0.229\\ngini = 0.278\\nsamples = 48\\nvalue = [40, 8]'),\n",
       " Text(595.2, 407.7, 'gini = 0.0\\nsamples = 10\\nvalue = [10, 0]'),\n",
       " Text(607.6, 407.7, 'X[3] <= -0.021\\ngini = 0.332\\nsamples = 38\\nvalue = [30, 8]'),\n",
       " Text(601.4, 359.7352941176471, 'X[5] <= -0.48\\ngini = 0.383\\nsamples = 31\\nvalue = [23, 8]'),\n",
       " Text(582.8000000000001, 311.77058823529416, 'X[5] <= -0.491\\ngini = 0.245\\nsamples = 21\\nvalue = [18, 3]'),\n",
       " Text(564.2, 263.80588235294124, 'X[5] <= -0.497\\ngini = 0.444\\nsamples = 6\\nvalue = [4, 2]'),\n",
       " Text(558.0, 215.84117647058827, 'gini = 0.0\\nsamples = 3\\nvalue = [3, 0]'),\n",
       " Text(570.4, 215.84117647058827, 'X[5] <= -0.492\\ngini = 0.444\\nsamples = 3\\nvalue = [1, 2]'),\n",
       " Text(564.2, 167.8764705882353, 'gini = 0.0\\nsamples = 1\\nvalue = [0, 1]'),\n",
       " Text(576.6, 167.8764705882353, 'X[2] <= -0.5\\ngini = 0.5\\nsamples = 2\\nvalue = [1, 1]'),\n",
       " Text(570.4, 119.91176470588243, 'gini = 0.0\\nsamples = 1\\nvalue = [0, 1]'),\n",
       " Text(582.8000000000001, 119.91176470588243, 'gini = 0.0\\nsamples = 1\\nvalue = [1, 0]'),\n",
       " Text(601.4, 263.80588235294124, 'X[2] <= -0.454\\ngini = 0.124\\nsamples = 15\\nvalue = [14, 1]'),\n",
       " Text(595.2, 215.84117647058827, 'gini = 0.0\\nsamples = 8\\nvalue = [8, 0]'),\n",
       " Text(607.6, 215.84117647058827, 'X[2] <= -0.408\\ngini = 0.245\\nsamples = 7\\nvalue = [6, 1]'),\n",
       " Text(601.4, 167.8764705882353, 'X[5] <= -0.49\\ngini = 0.444\\nsamples = 3\\nvalue = [2, 1]'),\n",
       " Text(595.2, 119.91176470588243, 'gini = 0.0\\nsamples = 1\\nvalue = [1, 0]'),\n",
       " Text(607.6, 119.91176470588243, 'X[5] <= -0.488\\ngini = 0.5\\nsamples = 2\\nvalue = [1, 1]'),\n",
       " Text(601.4, 71.94705882352946, 'gini = 0.0\\nsamples = 1\\nvalue = [0, 1]'),\n",
       " Text(613.8000000000001, 71.94705882352946, 'gini = 0.0\\nsamples = 1\\nvalue = [1, 0]'),\n",
       " Text(613.8000000000001, 167.8764705882353, 'gini = 0.0\\nsamples = 4\\nvalue = [4, 0]'),\n",
       " Text(620.0, 311.77058823529416, 'X[2] <= -0.5\\ngini = 0.5\\nsamples = 10\\nvalue = [5, 5]'),\n",
       " Text(613.8000000000001, 263.80588235294124, 'gini = 0.0\\nsamples = 3\\nvalue = [0, 3]'),\n",
       " Text(626.2, 263.80588235294124, 'X[2] <= -0.443\\ngini = 0.408\\nsamples = 7\\nvalue = [5, 2]'),\n",
       " Text(620.0, 215.84117647058827, 'gini = 0.0\\nsamples = 4\\nvalue = [4, 0]'),\n",
       " Text(632.4, 215.84117647058827, 'X[5] <= -0.457\\ngini = 0.444\\nsamples = 3\\nvalue = [1, 2]'),\n",
       " Text(626.2, 167.8764705882353, 'gini = 0.0\\nsamples = 1\\nvalue = [1, 0]'),\n",
       " Text(638.6, 167.8764705882353, 'gini = 0.0\\nsamples = 2\\nvalue = [0, 2]'),\n",
       " Text(613.8000000000001, 359.7352941176471, 'gini = 0.0\\nsamples = 7\\nvalue = [7, 0]'),\n",
       " Text(657.2, 551.5941176470587, 'X[5] <= -0.491\\ngini = 0.498\\nsamples = 15\\nvalue = [8, 7]'),\n",
       " Text(651.0, 503.6294117647059, 'gini = 0.0\\nsamples = 2\\nvalue = [2, 0]'),\n",
       " Text(663.4, 503.6294117647059, 'X[3] <= -0.021\\ngini = 0.497\\nsamples = 13\\nvalue = [6, 7]'),\n",
       " Text(651.0, 455.66470588235296, 'X[5] <= -0.412\\ngini = 0.444\\nsamples = 9\\nvalue = [3, 6]'),\n",
       " Text(644.8000000000001, 407.7, 'X[5] <= -0.462\\ngini = 0.49\\nsamples = 7\\nvalue = [3, 4]'),\n",
       " Text(638.6, 359.7352941176471, 'X[2] <= -0.316\\ngini = 0.444\\nsamples = 6\\nvalue = [2, 4]'),\n",
       " Text(632.4, 311.77058823529416, 'gini = 0.0\\nsamples = 1\\nvalue = [0, 1]'),\n",
       " Text(644.8000000000001, 311.77058823529416, 'X[5] <= -0.49\\ngini = 0.48\\nsamples = 5\\nvalue = [2, 3]'),\n",
       " Text(638.6, 263.80588235294124, 'gini = 0.0\\nsamples = 1\\nvalue = [0, 1]'),\n",
       " Text(651.0, 263.80588235294124, 'X[5] <= -0.488\\ngini = 0.5\\nsamples = 4\\nvalue = [2, 2]'),\n",
       " Text(644.8000000000001, 215.84117647058827, 'gini = 0.444\\nsamples = 3\\nvalue = [2, 1]'),\n",
       " Text(657.2, 215.84117647058827, 'gini = 0.0\\nsamples = 1\\nvalue = [0, 1]'),\n",
       " Text(651.0, 359.7352941176471, 'gini = 0.0\\nsamples = 1\\nvalue = [1, 0]'),\n",
       " Text(657.2, 407.7, 'gini = 0.0\\nsamples = 2\\nvalue = [0, 2]'),\n",
       " Text(675.8000000000001, 455.66470588235296, 'X[5] <= -0.122\\ngini = 0.375\\nsamples = 4\\nvalue = [3, 1]'),\n",
       " Text(669.6, 407.7, 'X[0] <= 0.229\\ngini = 0.5\\nsamples = 2\\nvalue = [1, 1]'),\n",
       " Text(663.4, 359.7352941176471, 'gini = 0.0\\nsamples = 1\\nvalue = [0, 1]'),\n",
       " Text(675.8000000000001, 359.7352941176471, 'gini = 0.0\\nsamples = 1\\nvalue = [1, 0]'),\n",
       " Text(682.0, 407.7, 'gini = 0.0\\nsamples = 2\\nvalue = [2, 0]'),\n",
       " Text(739.7375000000001, 599.5588235294117, 'X[5] <= -0.489\\ngini = 0.159\\nsamples = 161\\nvalue = [147, 14]'),\n",
       " Text(706.8000000000001, 551.5941176470587, 'X[2] <= 1.545\\ngini = 0.081\\nsamples = 71\\nvalue = [68, 3]'),\n",
       " Text(700.6, 503.6294117647059, 'gini = 0.0\\nsamples = 25\\nvalue = [25, 0]'),\n",
       " Text(713.0, 503.6294117647059, 'X[5] <= -0.491\\ngini = 0.122\\nsamples = 46\\nvalue = [43, 3]'),\n",
       " Text(706.8000000000001, 455.66470588235296, 'X[5] <= -0.492\\ngini = 0.165\\nsamples = 33\\nvalue = [30, 3]'),\n",
       " Text(694.4, 407.7, 'X[5] <= -0.503\\ngini = 0.124\\nsamples = 30\\nvalue = [28, 2]'),\n",
       " Text(688.2, 359.7352941176471, 'gini = 0.0\\nsamples = 11\\nvalue = [11, 0]'),\n",
       " Text(700.6, 359.7352941176471, 'X[5] <= -0.503\\ngini = 0.188\\nsamples = 19\\nvalue = [17, 2]'),\n",
       " Text(694.4, 311.77058823529416, 'gini = 0.32\\nsamples = 5\\nvalue = [4, 1]'),\n",
       " Text(706.8000000000001, 311.77058823529416, 'X[5] <= -0.493\\ngini = 0.133\\nsamples = 14\\nvalue = [13, 1]'),\n",
       " Text(700.6, 263.80588235294124, 'gini = 0.0\\nsamples = 6\\nvalue = [6, 0]'),\n",
       " Text(713.0, 263.80588235294124, 'gini = 0.219\\nsamples = 8\\nvalue = [7, 1]'),\n",
       " Text(719.2, 407.7, 'X[2] <= 1.625\\ngini = 0.444\\nsamples = 3\\nvalue = [2, 1]'),\n",
       " Text(713.0, 359.7352941176471, 'gini = 0.5\\nsamples = 2\\nvalue = [1, 1]'),\n",
       " Text(725.4, 359.7352941176471, 'gini = 0.0\\nsamples = 1\\nvalue = [1, 0]'),\n",
       " Text(719.2, 455.66470588235296, 'gini = 0.0\\nsamples = 13\\nvalue = [13, 0]'),\n",
       " Text(772.6750000000001, 551.5941176470587, 'X[5] <= -0.488\\ngini = 0.215\\nsamples = 90\\nvalue = [79, 11]'),\n",
       " Text(747.1, 503.6294117647059, 'X[2] <= -0.016\\ngini = 0.5\\nsamples = 4\\nvalue = [2, 2]'),\n",
       " Text(740.9, 455.66470588235296, 'gini = 0.0\\nsamples = 1\\nvalue = [1, 0]'),\n",
       " Text(753.3000000000001, 455.66470588235296, 'X[2] <= 0.145\\ngini = 0.444\\nsamples = 3\\nvalue = [1, 2]'),\n",
       " Text(747.1, 407.7, 'gini = 0.5\\nsamples = 2\\nvalue = [1, 1]'),\n",
       " Text(759.5, 407.7, 'gini = 0.0\\nsamples = 1\\nvalue = [0, 1]'),\n",
       " Text(798.25, 503.6294117647059, 'X[5] <= -0.339\\ngini = 0.187\\nsamples = 86\\nvalue = [77, 9]'),\n",
       " Text(778.1, 455.66470588235296, 'X[5] <= -0.343\\ngini = 0.269\\nsamples = 50\\nvalue = [42, 8]'),\n",
       " Text(771.9, 407.7, 'X[5] <= -0.388\\ngini = 0.219\\nsamples = 48\\nvalue = [42, 6]'),\n",
       " Text(737.8000000000001, 359.7352941176471, 'X[2] <= 0.283\\ngini = 0.128\\nsamples = 29\\nvalue = [27, 2]'),\n",
       " Text(731.6, 311.77058823529416, 'gini = 0.0\\nsamples = 13\\nvalue = [13, 0]'),\n",
       " Text(744.0, 311.77058823529416, 'X[2] <= 0.352\\ngini = 0.219\\nsamples = 16\\nvalue = [14, 2]'),\n",
       " Text(737.8000000000001, 263.80588235294124, 'gini = 0.0\\nsamples = 1\\nvalue = [0, 1]'),\n",
       " Text(750.2, 263.80588235294124, 'X[5] <= -0.486\\ngini = 0.124\\nsamples = 15\\nvalue = [14, 1]'),\n",
       " Text(744.0, 215.84117647058827, 'gini = 0.0\\nsamples = 9\\nvalue = [9, 0]'),\n",
       " Text(756.4, 215.84117647058827, 'X[5] <= -0.479\\ngini = 0.278\\nsamples = 6\\nvalue = [5, 1]'),\n",
       " Text(750.2, 167.8764705882353, 'gini = 0.0\\nsamples = 1\\nvalue = [0, 1]'),\n",
       " Text(762.6, 167.8764705882353, 'gini = 0.0\\nsamples = 5\\nvalue = [5, 0]'),\n",
       " Text(806.0, 359.7352941176471, 'X[2] <= 1.28\\ngini = 0.332\\nsamples = 19\\nvalue = [15, 4]'),\n",
       " Text(793.6, 311.77058823529416, 'X[2] <= 0.283\\ngini = 0.219\\nsamples = 16\\nvalue = [14, 2]'),\n",
       " Text(787.4, 263.80588235294124, 'X[2] <= 0.145\\ngini = 0.32\\nsamples = 10\\nvalue = [8, 2]'),\n",
       " Text(781.2, 215.84117647058827, 'X[2] <= -0.155\\ngini = 0.219\\nsamples = 8\\nvalue = [7, 1]'),\n",
       " Text(775.0, 167.8764705882353, 'X[0] <= 0.229\\ngini = 0.375\\nsamples = 4\\nvalue = [3, 1]'),\n",
       " Text(768.8000000000001, 119.91176470588243, 'gini = 0.444\\nsamples = 3\\nvalue = [2, 1]'),\n",
       " Text(781.2, 119.91176470588243, 'gini = 0.0\\nsamples = 1\\nvalue = [1, 0]'),\n",
       " Text(787.4, 167.8764705882353, 'gini = 0.0\\nsamples = 4\\nvalue = [4, 0]'),\n",
       " Text(793.6, 215.84117647058827, 'gini = 0.5\\nsamples = 2\\nvalue = [1, 1]'),\n",
       " Text(799.8000000000001, 263.80588235294124, 'gini = 0.0\\nsamples = 6\\nvalue = [6, 0]'),\n",
       " Text(818.4, 311.77058823529416, 'X[5] <= -0.357\\ngini = 0.444\\nsamples = 3\\nvalue = [1, 2]'),\n",
       " Text(812.2, 263.80588235294124, 'gini = 0.0\\nsamples = 2\\nvalue = [0, 2]'),\n",
       " Text(824.6, 263.80588235294124, 'gini = 0.0\\nsamples = 1\\nvalue = [1, 0]'),\n",
       " Text(784.3000000000001, 407.7, 'gini = 0.0\\nsamples = 2\\nvalue = [0, 2]'),\n",
       " Text(818.4, 455.66470588235296, 'X[5] <= 0.313\\ngini = 0.054\\nsamples = 36\\nvalue = [35, 1]'),\n",
       " Text(812.2, 407.7, 'gini = 0.0\\nsamples = 30\\nvalue = [30, 0]'),\n",
       " Text(824.6, 407.7, 'X[3] <= 3.155\\ngini = 0.278\\nsamples = 6\\nvalue = [5, 1]'),\n",
       " Text(818.4, 359.7352941176471, 'gini = 0.5\\nsamples = 2\\nvalue = [1, 1]'),\n",
       " Text(830.8000000000001, 359.7352941176471, 'gini = 0.0\\nsamples = 4\\nvalue = [4, 0]')]"
      ]
     },
     "execution_count": 92,
     "metadata": {},
     "output_type": "execute_result"
    },
    {
     "data": {
      "image/png": "[encoded data removed]",
      "text/plain": [
       "<Figure size 1080x1080 with 1 Axes>"
      ]
     },
     "metadata": {
      "needs_background": "light"
     },
     "output_type": "display_data"
    }
   ],
   "source": [
    "from sklearn import tree\n",
    "plt.figure(figsize=(15,15))\n",
    "tree.plot_tree(clf,filled=True)"
   ]
  },
  {
   "cell_type": "markdown",
   "metadata": {},
   "source": [
    "### Post pruning"
   ]
  },
  {
   "cell_type": "code",
   "execution_count": 93,
   "metadata": {},
   "outputs": [],
   "source": [
    "path=clf.cost_complexity_pruning_path(xtrain,ytrain)"
   ]
  },
  {
   "cell_type": "code",
   "execution_count": 94,
   "metadata": {},
   "outputs": [],
   "source": [
    "ccp_alphas,impurity=path.ccp_alphas,path.impurities"
   ]
  },
  {
   "cell_type": "code",
   "execution_count": 95,
   "metadata": {},
   "outputs": [
    {
     "data": {
      "text/plain": [
       "array([0.        , 0.00016039, 0.00018234, 0.00023112, 0.0002495 ,\n",
       "       0.00037425, 0.00037917, 0.00046336, 0.000499  , 0.00056138,\n",
       "       0.00061241, 0.00066534, 0.0006986 , 0.00070692, 0.0007485 ,\n",
       "       0.0007592 , 0.00085471, 0.000998  , 0.000998  , 0.000998  ,\n",
       "       0.000998  , 0.00112275, 0.00112275, 0.00112275, 0.00114752,\n",
       "       0.0011976 , 0.00128315, 0.00132236, 0.00133067, 0.00135443,\n",
       "       0.00136685, 0.00138185, 0.00139376, 0.00140344, 0.00140895,\n",
       "       0.00143943, 0.00145423, 0.00147705, 0.00150468, 0.00163466,\n",
       "       0.00166361, 0.00171086, 0.00189356, 0.00199601, 0.00199601,\n",
       "       0.00201134, 0.00207917, 0.00214344, 0.00214544, 0.00228293,\n",
       "       0.0023362 , 0.00233948, 0.00247666, 0.00265476, 0.00268797,\n",
       "       0.0027637 , 0.00290523, 0.00296166, 0.0030196 , 0.00330786,\n",
       "       0.00335593, 0.00421679, 0.00849848, 0.00886477, 0.01233496,\n",
       "       0.01499817, 0.02985151, 0.14240923])"
      ]
     },
     "execution_count": 95,
     "metadata": {},
     "output_type": "execute_result"
    }
   ],
   "source": [
    "ccp_alphas"
   ]
  },
  {
   "cell_type": "code",
   "execution_count": 96,
   "metadata": {},
   "outputs": [],
   "source": [
    "clfs=[]\n",
    "for alpha in ccp_alphas:\n",
    "    clf=DecisionTreeClassifier(random_state=100,ccp_alpha=alpha)\n",
    "    clf.fit(xtrain,ytrain)\n",
    "    clfs.append(clf)"
   ]
  },
  {
   "cell_type": "code",
   "execution_count": 98,
   "metadata": {},
   "outputs": [],
   "source": [
    "train_score=[clf.score(xtrain,ytrain) for clf in clfs]\n",
    "test_score=[clf.score(xtest,ytest) for clf in clfs]"
   ]
  },
  {
   "cell_type": "code",
   "execution_count": 105,
   "metadata": {},
   "outputs": [
    {
     "data": {
      "text/plain": [
       "<matplotlib.legend.Legend at 0x2a228a91f08>"
      ]
     },
     "execution_count": 105,
     "metadata": {},
     "output_type": "execute_result"
    },
    {
     "data": {
      "image/png": "[encoded data removed]",
      "text/plain": [
       "<Figure size 432x288 with 1 Axes>"
      ]
     },
     "metadata": {
      "needs_background": "light"
     },
     "output_type": "display_data"
    }
   ],
   "source": [
    "fig,ax=plt.subplots()\n",
    "ax.set_xlabel('alpha')\n",
    "ax.set_ylabel('accuracy')\n",
    "ax.plot(ccp_alphas,train_score,label='Train_score',drawStyle='steps-post',marker='o')\n",
    "ax.plot(ccp_alphas,test_score,label='Test_score',drawStyle='steps-post',marker='o')\n",
    "ax.legend()"
   ]
  },
  {
   "cell_type": "code",
   "execution_count": 108,
   "metadata": {},
   "outputs": [
    {
     "data": {
      "text/plain": [
       "<matplotlib.legend.Legend at 0x2a2294df848>"
      ]
     },
     "execution_count": 108,
     "metadata": {},
     "output_type": "execute_result"
    },
    {
     "data": {
      "image/png": "[encoded data removed]",
      "text/plain": [
       "<Figure size 432x288 with 1 Axes>"
      ]
     },
     "metadata": {
      "needs_background": "light"
     },
     "output_type": "display_data"
    }
   ],
   "source": [
    "fig,ax=plt.subplots()\n",
    "ax.set_xlabel('alpha')\n",
    "ax.set_ylabel('accuracy')\n",
    "plt.xlim(0.0015,0.002)\n",
    "ax.plot(ccp_alphas,train_score,label='Train_score',drawStyle='steps-post',marker='o')\n",
    "ax.plot(ccp_alphas,test_score,label='Test_score',drawStyle='steps-post',marker='o')\n",
    "ax.legend()"
   ]
  },
  {
   "cell_type": "code",
   "execution_count": 109,
   "metadata": {},
   "outputs": [
    {
     "name": "stdout",
     "output_type": "stream",
     "text": [
      "0.0016346617110606376\n",
      "0.001663607880393065\n"
     ]
    }
   ],
   "source": [
    "for alpha in ccp_alphas:\n",
    "    if alpha > 0.0016 and alpha < 0.0017:\n",
    "        print(alpha)"
   ]
  },
  {
   "cell_type": "code",
   "execution_count": 110,
   "metadata": {},
   "outputs": [],
   "source": [
    "alpha=0.001663607880393065"
   ]
  },
  {
   "cell_type": "code",
   "execution_count": 111,
   "metadata": {},
   "outputs": [
    {
     "data": {
      "text/plain": [
       "DecisionTreeClassifier(ccp_alpha=0.001663607880393065, random_state=100)"
      ]
     },
     "execution_count": 111,
     "metadata": {},
     "output_type": "execute_result"
    }
   ],
   "source": [
    "clf=DecisionTreeClassifier(random_state=100,ccp_alpha=alpha)\n",
    "clf.fit(xtrain,ytrain)"
   ]
  },
  {
   "cell_type": "code",
   "execution_count": 112,
   "metadata": {},
   "outputs": [
    {
     "data": {
      "text/plain": [
       "0.8161434977578476"
      ]
     },
     "execution_count": 112,
     "metadata": {},
     "output_type": "execute_result"
    }
   ],
   "source": [
    "pred=clf.predict(xtest)\n",
    "accuracy_score(pred,ytest)"
   ]
  },
  {
   "cell_type": "code",
   "execution_count": 114,
   "metadata": {},
   "outputs": [
    {
     "data": {
      "text/plain": [
       "[Text(320.85, 524.1857142857143, 'X[1] <= -0.309\\ngini = 0.474\\nsamples = 668\\nvalue = [410, 258]'),\n",
       " Text(197.16, 485.3571428571429, 'X[0] <= 0.229\\ngini = 0.372\\nsamples = 231\\nvalue = [57, 174]'),\n",
       " Text(148.8, 446.52857142857147, 'X[2] <= -1.652\\ngini = 0.116\\nsamples = 129\\nvalue = [8, 121]'),\n",
       " Text(133.92000000000002, 407.70000000000005, 'gini = 0.0\\nsamples = 1\\nvalue = [1, 0]'),\n",
       " Text(163.68, 407.70000000000005, 'gini = 0.103\\nsamples = 128\\nvalue = [7, 121]'),\n",
       " Text(245.52, 446.52857142857147, 'X[5] <= -0.178\\ngini = 0.499\\nsamples = 102\\nvalue = [49, 53]'),\n",
       " Text(193.44, 407.70000000000005, 'X[2] <= 1.004\\ngini = 0.469\\nsamples = 80\\nvalue = [30, 50]'),\n",
       " Text(133.92000000000002, 368.8714285714286, 'X[2] <= -0.5\\ngini = 0.494\\nsamples = 54\\nvalue = [24, 30]'),\n",
       " Text(104.16000000000001, 330.0428571428572, 'X[5] <= -0.492\\ngini = 0.459\\nsamples = 42\\nvalue = [15, 27]'),\n",
       " Text(89.28, 291.2142857142857, 'gini = 0.0\\nsamples = 6\\nvalue = [0, 6]'),\n",
       " Text(119.04, 291.2142857142857, 'X[4] <= 1.388\\ngini = 0.486\\nsamples = 36\\nvalue = [15, 21]'),\n",
       " Text(104.16000000000001, 252.3857142857143, 'X[5] <= -0.368\\ngini = 0.499\\nsamples = 31\\nvalue = [15, 16]'),\n",
       " Text(74.4, 213.55714285714288, 'X[5] <= -0.419\\ngini = 0.455\\nsamples = 20\\nvalue = [7, 13]'),\n",
       " Text(59.52, 174.72857142857146, 'X[5] <= -0.444\\ngini = 0.492\\nsamples = 16\\nvalue = [7, 9]'),\n",
       " Text(44.64, 135.90000000000003, 'X[2] <= -0.592\\ngini = 0.459\\nsamples = 14\\nvalue = [5, 9]'),\n",
       " Text(29.76, 97.07142857142861, 'X[2] <= -0.73\\ngini = 0.496\\nsamples = 11\\nvalue = [5, 6]'),\n",
       " Text(14.88, 58.24285714285713, 'gini = 0.375\\nsamples = 8\\nvalue = [2, 6]'),\n",
       " Text(44.64, 58.24285714285713, 'gini = 0.0\\nsamples = 3\\nvalue = [3, 0]'),\n",
       " Text(59.52, 97.07142857142861, 'gini = 0.0\\nsamples = 3\\nvalue = [0, 3]'),\n",
       " Text(74.4, 135.90000000000003, 'gini = 0.0\\nsamples = 2\\nvalue = [2, 0]'),\n",
       " Text(89.28, 174.72857142857146, 'gini = 0.0\\nsamples = 4\\nvalue = [0, 4]'),\n",
       " Text(133.92000000000002, 213.55714285714288, 'X[2] <= -1.03\\ngini = 0.397\\nsamples = 11\\nvalue = [8, 3]'),\n",
       " Text(119.04, 174.72857142857146, 'X[5] <= -0.242\\ngini = 0.5\\nsamples = 6\\nvalue = [3, 3]'),\n",
       " Text(104.16000000000001, 135.90000000000003, 'gini = 0.375\\nsamples = 4\\nvalue = [1, 3]'),\n",
       " Text(133.92000000000002, 135.90000000000003, 'gini = 0.0\\nsamples = 2\\nvalue = [2, 0]'),\n",
       " Text(148.8, 174.72857142857146, 'gini = 0.0\\nsamples = 5\\nvalue = [5, 0]'),\n",
       " Text(133.92000000000002, 252.3857142857143, 'gini = 0.0\\nsamples = 5\\nvalue = [0, 5]'),\n",
       " Text(163.68, 330.0428571428572, 'X[5] <= -0.317\\ngini = 0.375\\nsamples = 12\\nvalue = [9, 3]'),\n",
       " Text(148.8, 291.2142857142857, 'gini = 0.198\\nsamples = 9\\nvalue = [8, 1]'),\n",
       " Text(178.56, 291.2142857142857, 'X[4] <= 1.388\\ngini = 0.444\\nsamples = 3\\nvalue = [1, 2]'),\n",
       " Text(163.68, 252.3857142857143, 'gini = 0.0\\nsamples = 2\\nvalue = [0, 2]'),\n",
       " Text(193.44, 252.3857142857143, 'gini = 0.0\\nsamples = 1\\nvalue = [1, 0]'),\n",
       " Text(252.96, 368.8714285714286, 'X[5] <= -0.494\\ngini = 0.355\\nsamples = 26\\nvalue = [6, 20]'),\n",
       " Text(223.20000000000002, 330.0428571428572, 'X[5] <= -0.5\\ngini = 0.444\\nsamples = 3\\nvalue = [2, 1]'),\n",
       " Text(208.32000000000002, 291.2142857142857, 'gini = 0.0\\nsamples = 1\\nvalue = [0, 1]'),\n",
       " Text(238.08, 291.2142857142857, 'gini = 0.0\\nsamples = 2\\nvalue = [2, 0]'),\n",
       " Text(282.72, 330.0428571428572, 'X[5] <= -0.347\\ngini = 0.287\\nsamples = 23\\nvalue = [4, 19]'),\n",
       " Text(267.84000000000003, 291.2142857142857, 'X[5] <= -0.488\\ngini = 0.375\\nsamples = 16\\nvalue = [4, 12]'),\n",
       " Text(252.96, 252.3857142857143, 'X[4] <= 0.768\\ngini = 0.142\\nsamples = 13\\nvalue = [1, 12]'),\n",
       " Text(238.08, 213.55714285714288, 'gini = 0.0\\nsamples = 12\\nvalue = [0, 12]'),\n",
       " Text(267.84000000000003, 213.55714285714288, 'gini = 0.0\\nsamples = 1\\nvalue = [1, 0]'),\n",
       " Text(282.72, 252.3857142857143, 'gini = 0.0\\nsamples = 3\\nvalue = [3, 0]'),\n",
       " Text(297.6, 291.2142857142857, 'gini = 0.0\\nsamples = 7\\nvalue = [0, 7]'),\n",
       " Text(297.6, 407.70000000000005, 'X[4] <= 0.147\\ngini = 0.236\\nsamples = 22\\nvalue = [19, 3]'),\n",
       " Text(282.72, 368.8714285714286, 'gini = 0.0\\nsamples = 1\\nvalue = [0, 1]'),\n",
       " Text(312.48, 368.8714285714286, 'gini = 0.172\\nsamples = 21\\nvalue = [19, 2]'),\n",
       " Text(444.54, 485.3571428571429, 'X[2] <= -1.122\\ngini = 0.311\\nsamples = 437\\nvalue = [353, 84]'),\n",
       " Text(386.88, 446.52857142857147, 'X[3] <= 1.794\\ngini = 0.491\\nsamples = 30\\nvalue = [13, 17]'),\n",
       " Text(372.0, 407.70000000000005, 'gini = 0.111\\nsamples = 17\\nvalue = [1, 16]'),\n",
       " Text(401.76000000000005, 407.70000000000005, 'gini = 0.142\\nsamples = 13\\nvalue = [12, 1]'),\n",
       " Text(502.20000000000005, 446.52857142857147, 'X[0] <= -0.968\\ngini = 0.275\\nsamples = 407\\nvalue = [340, 67]'),\n",
       " Text(431.52000000000004, 407.70000000000005, 'X[2] <= 0.675\\ngini = 0.439\\nsamples = 89\\nvalue = [60, 29]'),\n",
       " Text(386.88, 368.8714285714286, 'X[5] <= 0.006\\ngini = 0.495\\nsamples = 60\\nvalue = [33, 27]'),\n",
       " Text(342.24, 330.0428571428572, 'X[5] <= -0.126\\ngini = 0.472\\nsamples = 21\\nvalue = [8, 13]'),\n",
       " Text(327.36, 291.2142857142857, 'gini = 0.0\\nsamples = 4\\nvalue = [4, 0]'),\n",
       " Text(357.12, 291.2142857142857, 'X[4] <= 0.147\\ngini = 0.36\\nsamples = 17\\nvalue = [4, 13]'),\n",
       " Text(342.24, 252.3857142857143, 'X[2] <= -0.27\\ngini = 0.305\\nsamples = 16\\nvalue = [3, 13]'),\n",
       " Text(327.36, 213.55714285714288, 'X[2] <= -0.454\\ngini = 0.48\\nsamples = 5\\nvalue = [2, 3]'),\n",
       " Text(312.48, 174.72857142857146, 'gini = 0.0\\nsamples = 3\\nvalue = [0, 3]'),\n",
       " Text(342.24, 174.72857142857146, 'gini = 0.0\\nsamples = 2\\nvalue = [2, 0]'),\n",
       " Text(357.12, 213.55714285714288, 'gini = 0.165\\nsamples = 11\\nvalue = [1, 10]'),\n",
       " Text(372.0, 252.3857142857143, 'gini = 0.0\\nsamples = 1\\nvalue = [1, 0]'),\n",
       " Text(431.52000000000004, 330.0428571428572, 'X[5] <= 7.001\\ngini = 0.46\\nsamples = 39\\nvalue = [25, 14]'),\n",
       " Text(416.64000000000004, 291.2142857142857, 'X[3] <= -0.021\\ngini = 0.438\\nsamples = 37\\nvalue = [25, 12]'),\n",
       " Text(401.76000000000005, 252.3857142857143, 'X[2] <= -0.892\\ngini = 0.208\\nsamples = 17\\nvalue = [15, 2]'),\n",
       " Text(386.88, 213.55714285714288, 'gini = 0.0\\nsamples = 1\\nvalue = [0, 1]'),\n",
       " Text(416.64000000000004, 213.55714285714288, 'gini = 0.117\\nsamples = 16\\nvalue = [15, 1]'),\n",
       " Text(431.52000000000004, 252.3857142857143, 'gini = 0.5\\nsamples = 20\\nvalue = [10, 10]'),\n",
       " Text(446.40000000000003, 291.2142857142857, 'gini = 0.0\\nsamples = 2\\nvalue = [0, 2]'),\n",
       " Text(476.16, 368.8714285714286, 'X[2] <= 1.764\\ngini = 0.128\\nsamples = 29\\nvalue = [27, 2]'),\n",
       " Text(461.28000000000003, 330.0428571428572, 'gini = 0.069\\nsamples = 28\\nvalue = [27, 1]'),\n",
       " Text(491.04, 330.0428571428572, 'gini = 0.0\\nsamples = 1\\nvalue = [0, 1]'),\n",
       " Text(572.88, 407.70000000000005, 'X[2] <= -0.27\\ngini = 0.21\\nsamples = 318\\nvalue = [280, 38]'),\n",
       " Text(535.6800000000001, 368.8714285714286, 'X[2] <= -0.35\\ngini = 0.259\\nsamples = 157\\nvalue = [133, 24]'),\n",
       " Text(520.8000000000001, 330.0428571428572, 'X[5] <= -0.503\\ngini = 0.211\\nsamples = 142\\nvalue = [125, 17]'),\n",
       " Text(491.04, 291.2142857142857, 'X[2] <= -0.8\\ngini = 0.426\\nsamples = 13\\nvalue = [9, 4]'),\n",
       " Text(476.16, 252.3857142857143, 'gini = 0.0\\nsamples = 6\\nvalue = [6, 0]'),\n",
       " Text(505.92, 252.3857142857143, 'X[5] <= -0.507\\ngini = 0.49\\nsamples = 7\\nvalue = [3, 4]'),\n",
       " Text(491.04, 213.55714285714288, 'gini = 0.0\\nsamples = 2\\nvalue = [0, 2]'),\n",
       " Text(520.8000000000001, 213.55714285714288, 'X[2] <= -0.638\\ngini = 0.48\\nsamples = 5\\nvalue = [3, 2]'),\n",
       " Text(505.92, 174.72857142857146, 'X[5] <= -0.505\\ngini = 0.444\\nsamples = 3\\nvalue = [1, 2]'),\n",
       " Text(491.04, 135.90000000000003, 'gini = 0.0\\nsamples = 1\\nvalue = [1, 0]'),\n",
       " Text(520.8000000000001, 135.90000000000003, 'gini = 0.0\\nsamples = 2\\nvalue = [0, 2]'),\n",
       " Text(535.6800000000001, 174.72857142857146, 'gini = 0.0\\nsamples = 2\\nvalue = [2, 0]'),\n",
       " Text(550.5600000000001, 291.2142857142857, 'X[2] <= -0.592\\ngini = 0.181\\nsamples = 129\\nvalue = [116, 13]'),\n",
       " Text(535.6800000000001, 252.3857142857143, 'gini = 0.116\\nsamples = 81\\nvalue = [76, 5]'),\n",
       " Text(565.44, 252.3857142857143, 'X[0] <= 0.229\\ngini = 0.278\\nsamples = 48\\nvalue = [40, 8]'),\n",
       " Text(550.5600000000001, 213.55714285714288, 'gini = 0.0\\nsamples = 10\\nvalue = [10, 0]'),\n",
       " Text(580.32, 213.55714285714288, 'X[3] <= -0.021\\ngini = 0.332\\nsamples = 38\\nvalue = [30, 8]'),\n",
       " Text(565.44, 174.72857142857146, 'X[5] <= -0.48\\ngini = 0.383\\nsamples = 31\\nvalue = [23, 8]'),\n",
       " Text(550.5600000000001, 135.90000000000003, 'gini = 0.245\\nsamples = 21\\nvalue = [18, 3]'),\n",
       " Text(580.32, 135.90000000000003, 'X[2] <= -0.5\\ngini = 0.5\\nsamples = 10\\nvalue = [5, 5]'),\n",
       " Text(565.44, 97.07142857142861, 'gini = 0.0\\nsamples = 3\\nvalue = [0, 3]'),\n",
       " Text(595.2, 97.07142857142861, 'X[2] <= -0.443\\ngini = 0.408\\nsamples = 7\\nvalue = [5, 2]'),\n",
       " Text(580.32, 58.24285714285713, 'gini = 0.0\\nsamples = 4\\nvalue = [4, 0]'),\n",
       " Text(610.08, 58.24285714285713, 'X[5] <= -0.457\\ngini = 0.444\\nsamples = 3\\nvalue = [1, 2]'),\n",
       " Text(595.2, 19.41428571428571, 'gini = 0.0\\nsamples = 1\\nvalue = [1, 0]'),\n",
       " Text(624.96, 19.41428571428571, 'gini = 0.0\\nsamples = 2\\nvalue = [0, 2]'),\n",
       " Text(595.2, 174.72857142857146, 'gini = 0.0\\nsamples = 7\\nvalue = [7, 0]'),\n",
       " Text(550.5600000000001, 330.0428571428572, 'gini = 0.498\\nsamples = 15\\nvalue = [8, 7]'),\n",
       " Text(610.08, 368.8714285714286, 'X[5] <= -0.489\\ngini = 0.159\\nsamples = 161\\nvalue = [147, 14]'),\n",
       " Text(595.2, 330.0428571428572, 'gini = 0.081\\nsamples = 71\\nvalue = [68, 3]'),\n",
       " Text(624.96, 330.0428571428572, 'X[5] <= -0.488\\ngini = 0.215\\nsamples = 90\\nvalue = [79, 11]'),\n",
       " Text(610.08, 291.2142857142857, 'gini = 0.5\\nsamples = 4\\nvalue = [2, 2]'),\n",
       " Text(639.84, 291.2142857142857, 'X[5] <= -0.339\\ngini = 0.187\\nsamples = 86\\nvalue = [77, 9]'),\n",
       " Text(624.96, 252.3857142857143, 'X[5] <= -0.343\\ngini = 0.269\\nsamples = 50\\nvalue = [42, 8]'),\n",
       " Text(610.08, 213.55714285714288, 'gini = 0.219\\nsamples = 48\\nvalue = [42, 6]'),\n",
       " Text(639.84, 213.55714285714288, 'gini = 0.0\\nsamples = 2\\nvalue = [0, 2]'),\n",
       " Text(654.72, 252.3857142857143, 'gini = 0.054\\nsamples = 36\\nvalue = [35, 1]')]"
      ]
     },
     "execution_count": 114,
     "metadata": {},
     "output_type": "execute_result"
    },
    {
     "data": {
      "image/png": "[encoded data removed]",
      "text/plain": [
       "<Figure size 864x720 with 1 Axes>"
      ]
     },
     "metadata": {
      "needs_background": "light"
     },
     "output_type": "display_data"
    }
   ],
   "source": [
    "plt.figure(figsize=(12,10))\n",
    "tree.plot_tree(clf,filled=True)"
   ]
  },
  {
   "cell_type": "code",
   "execution_count": 115,
   "metadata": {},
   "outputs": [],
   "source": [
    "from sklearn.metrics import accuracy_score, confusion_matrix, roc_curve, roc_auc_score,classification_report"
   ]
  },
  {
   "cell_type": "code",
   "execution_count": 116,
   "metadata": {},
   "outputs": [],
   "source": [
    "TP=confusion_matrix(ytest,pred)[0][0]\n",
    "FP=confusion_matrix(ytest,pred)[0][1]\n",
    "FN=confusion_matrix(ytest,pred)[1][0]\n",
    "TN=confusion_matrix(ytest,pred)[1][1]"
   ]
  },
  {
   "cell_type": "code",
   "execution_count": 117,
   "metadata": {},
   "outputs": [
    {
     "data": {
      "text/plain": [
       "0.8161434977578476"
      ]
     },
     "execution_count": 117,
     "metadata": {},
     "output_type": "execute_result"
    }
   ],
   "source": [
    "Accuracy=(TP+TN)/(TP+TN+FP+FN)\n",
    "Accuracy"
   ]
  },
  {
   "cell_type": "code",
   "execution_count": 118,
   "metadata": {},
   "outputs": [
    {
     "data": {
      "text/plain": [
       "0.9064748201438849"
      ]
     },
     "execution_count": 118,
     "metadata": {},
     "output_type": "execute_result"
    }
   ],
   "source": [
    "Precision=(TP)/(TP+FP)\n",
    "Precision"
   ]
  },
  {
   "cell_type": "code",
   "execution_count": 119,
   "metadata": {},
   "outputs": [
    {
     "data": {
      "text/plain": [
       "0.8181818181818182"
      ]
     },
     "execution_count": 119,
     "metadata": {},
     "output_type": "execute_result"
    }
   ],
   "source": [
    "Recall=(TP)/(TP+FN)\n",
    "Recall"
   ]
  },
  {
   "cell_type": "code",
   "execution_count": 120,
   "metadata": {},
   "outputs": [],
   "source": [
    "auc=roc_auc_score(ytest,pred)"
   ]
  },
  {
   "cell_type": "code",
   "execution_count": 121,
   "metadata": {},
   "outputs": [
    {
     "data": {
      "text/plain": [
       "0.7865707434052758"
      ]
     },
     "execution_count": 121,
     "metadata": {},
     "output_type": "execute_result"
    }
   ],
   "source": [
    "auc"
   ]
  },
  {
   "cell_type": "code",
   "execution_count": 122,
   "metadata": {},
   "outputs": [],
   "source": [
    "fpr,tpr,threshold=roc_curve(ytest,pred)"
   ]
  },
  {
   "cell_type": "code",
   "execution_count": 135,
   "metadata": {},
   "outputs": [
    {
     "data": {
      "text/plain": [
       "Text(0, 0.5, 'TPR')"
      ]
     },
     "execution_count": 135,
     "metadata": {},
     "output_type": "execute_result"
    },
    {
     "data": {
      "image/png": "[encoded data removed]",
      "text/plain": [
       "<Figure size 432x288 with 1 Axes>"
      ]
     },
     "metadata": {
      "needs_background": "light"
     },
     "output_type": "display_data"
    }
   ],
   "source": [
    "fig,ax=plt.subplots()\n",
    "plt.plot(fpr,tpr,color='orange',label='ROC-CURVE')\n",
    "plt.plot([0,1],[0,1],color='blue',linestyle='--',label='ROC CURVE (AREA=%.2f)'% auc)\n",
    "plt.legend()\n",
    "ax.set_xlabel('FPR')\n",
    "ax.set_ylabel('TPR')"
   ]
  },
  {
   "cell_type": "code",
   "execution_count": null,
   "metadata": {},
   "outputs": [],
   "source": []
  }
 ],
 "metadata": {
  "kernelspec": {
   "display_name": "Python 3",
   "language": "python",
   "name": "python3"
  },
  "language_info": {
   "codemirror_mode": {
    "name": "ipython",
    "version": 3
   },
   "file_extension": ".py",
   "mimetype": "text/x-python",
   "name": "python",
   "nbconvert_exporter": "python",
   "pygments_lexer": "ipython3",
   "version": "3.7.6"
  }
 },
 "nbformat": 4,
 "nbformat_minor": 4
}
